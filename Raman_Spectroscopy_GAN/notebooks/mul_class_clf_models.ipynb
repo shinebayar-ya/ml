{
 "cells": [
  {
   "cell_type": "markdown",
   "metadata": {},
   "source": [
    "# Models for Multi-class classfication"
   ]
  },
  {
   "cell_type": "markdown",
   "metadata": {},
   "source": [
    "## Import libs and read data"
   ]
  },
  {
   "cell_type": "code",
   "execution_count": 10,
   "metadata": {},
   "outputs": [],
   "source": [
    "import numpy as np\n",
    "import pandas as pd \n",
    "# import matplotlib as mpl   \n",
    "# import matplotlib.pyplot as plt\n",
    "# import seaborn as sns\n",
    "# from scipy.signal import find_peaks, savgol_filter\n",
    "from sklearn.model_selection import train_test_split\n",
    "from sklearn.preprocessing import StandardScaler, LabelEncoder, OneHotEncoder\n",
    "from keras import layers, models\n",
    "from keras.models import Sequential\n",
    "from keras.layers import Dense, Conv1D, Flatten, LeakyReLU, BatchNormalization, MaxPooling1D, Dropout\n",
    "# from keras.utils import to_categorical\n",
    "# import glob"
   ]
  },
  {
   "cell_type": "code",
   "execution_count": 2,
   "metadata": {},
   "outputs": [],
   "source": [
    "data = pd.read_csv(\"../input/data.csv\")"
   ]
  },
  {
   "cell_type": "code",
   "execution_count": 5,
   "metadata": {},
   "outputs": [
    {
     "data": {
      "text/html": [
       "<div>\n",
       "<style scoped>\n",
       "    .dataframe tbody tr th:only-of-type {\n",
       "        vertical-align: middle;\n",
       "    }\n",
       "\n",
       "    .dataframe tbody tr th {\n",
       "        vertical-align: top;\n",
       "    }\n",
       "\n",
       "    .dataframe thead th {\n",
       "        text-align: right;\n",
       "    }\n",
       "</style>\n",
       "<table border=\"1\" class=\"dataframe\">\n",
       "  <thead>\n",
       "    <tr style=\"text-align: right;\">\n",
       "      <th></th>\n",
       "      <th>0</th>\n",
       "      <th>1</th>\n",
       "      <th>2</th>\n",
       "      <th>3</th>\n",
       "      <th>4</th>\n",
       "    </tr>\n",
       "  </thead>\n",
       "  <tbody>\n",
       "    <tr>\n",
       "      <th>320</th>\n",
       "      <td>-1.388896</td>\n",
       "      <td>16.722093</td>\n",
       "      <td>0.329687</td>\n",
       "      <td>-10.598846</td>\n",
       "      <td>10.015236</td>\n",
       "    </tr>\n",
       "    <tr>\n",
       "      <th>321</th>\n",
       "      <td>0.05821</td>\n",
       "      <td>-1.186429</td>\n",
       "      <td>-0.747993</td>\n",
       "      <td>-5.978379</td>\n",
       "      <td>12.575455</td>\n",
       "    </tr>\n",
       "    <tr>\n",
       "      <th>322</th>\n",
       "      <td>5.898464</td>\n",
       "      <td>-10.186022</td>\n",
       "      <td>-1.588051</td>\n",
       "      <td>1.822014</td>\n",
       "      <td>13.012607</td>\n",
       "    </tr>\n",
       "    <tr>\n",
       "      <th>323</th>\n",
       "      <td>5.849397</td>\n",
       "      <td>-3.832706</td>\n",
       "      <td>0.152671</td>\n",
       "      <td>12.90642</td>\n",
       "      <td>13.932454</td>\n",
       "    </tr>\n",
       "    <tr>\n",
       "      <th>324</th>\n",
       "      <td>2.37903</td>\n",
       "      <td>12.73007</td>\n",
       "      <td>5.357345</td>\n",
       "      <td>21.049637</td>\n",
       "      <td>13.677982</td>\n",
       "    </tr>\n",
       "    <tr>\n",
       "      <th>...</th>\n",
       "      <td>...</td>\n",
       "      <td>...</td>\n",
       "      <td>...</td>\n",
       "      <td>...</td>\n",
       "      <td>...</td>\n",
       "    </tr>\n",
       "    <tr>\n",
       "      <th>1648</th>\n",
       "      <td>1.384356</td>\n",
       "      <td>-4.633642</td>\n",
       "      <td>-5.380405</td>\n",
       "      <td>10.001486</td>\n",
       "      <td>35.561525</td>\n",
       "    </tr>\n",
       "    <tr>\n",
       "      <th>1649</th>\n",
       "      <td>16.59277</td>\n",
       "      <td>-6.431111</td>\n",
       "      <td>-6.852814</td>\n",
       "      <td>1.22302</td>\n",
       "      <td>37.348663</td>\n",
       "    </tr>\n",
       "    <tr>\n",
       "      <th>1650</th>\n",
       "      <td>8.760738</td>\n",
       "      <td>25.847542</td>\n",
       "      <td>-2.682321</td>\n",
       "      <td>1.914469</td>\n",
       "      <td>11.53166</td>\n",
       "    </tr>\n",
       "    <tr>\n",
       "      <th>Diagnostic</th>\n",
       "      <td>Streptavidin</td>\n",
       "      <td>Streptavidin</td>\n",
       "      <td>Streptavidin</td>\n",
       "      <td>S</td>\n",
       "      <td>S</td>\n",
       "    </tr>\n",
       "    <tr>\n",
       "      <th>COVID-19_Status</th>\n",
       "      <td>negative</td>\n",
       "      <td>negative</td>\n",
       "      <td>negative</td>\n",
       "      <td>positive</td>\n",
       "      <td>positive</td>\n",
       "    </tr>\n",
       "  </tbody>\n",
       "</table>\n",
       "<p>1333 rows × 5 columns</p>\n",
       "</div>"
      ],
      "text/plain": [
       "                            0             1             2          3  \\\n",
       "320                 -1.388896     16.722093      0.329687 -10.598846   \n",
       "321                   0.05821     -1.186429     -0.747993  -5.978379   \n",
       "322                  5.898464    -10.186022     -1.588051   1.822014   \n",
       "323                  5.849397     -3.832706      0.152671   12.90642   \n",
       "324                   2.37903      12.73007      5.357345  21.049637   \n",
       "...                       ...           ...           ...        ...   \n",
       "1648                 1.384356     -4.633642     -5.380405  10.001486   \n",
       "1649                 16.59277     -6.431111     -6.852814    1.22302   \n",
       "1650                 8.760738     25.847542     -2.682321   1.914469   \n",
       "Diagnostic       Streptavidin  Streptavidin  Streptavidin          S   \n",
       "COVID-19_Status      negative      negative      negative   positive   \n",
       "\n",
       "                         4  \n",
       "320              10.015236  \n",
       "321              12.575455  \n",
       "322              13.012607  \n",
       "323              13.932454  \n",
       "324              13.677982  \n",
       "...                    ...  \n",
       "1648             35.561525  \n",
       "1649             37.348663  \n",
       "1650              11.53166  \n",
       "Diagnostic               S  \n",
       "COVID-19_Status   positive  \n",
       "\n",
       "[1333 rows x 5 columns]"
      ]
     },
     "metadata": {},
     "output_type": "display_data"
    },
    {
     "data": {
      "text/plain": [
       "(35, 1333)"
      ]
     },
     "metadata": {},
     "output_type": "display_data"
    }
   ],
   "source": [
    "display(data.head().T, data.shape)"
   ]
  },
  {
   "cell_type": "markdown",
   "metadata": {},
   "source": [
    "## Data prep"
   ]
  },
  {
   "cell_type": "code",
   "execution_count": 29,
   "metadata": {},
   "outputs": [],
   "source": [
    "def preprocess_data(data):\n",
    "\n",
    "    X = data.drop(['Diagnostic', 'COVID-19_Status'], axis=1)\n",
    "    X.columns = X.columns.astype(int)\n",
    "    y = data['Diagnostic'].values\n",
    "\n",
    "    X_train, X_test, y_train, y_test = train_test_split(X, y, stratify=y, test_size=0.2, random_state=42)\n",
    "\n",
    "    label_encoder = OneHotEncoder(sparse_output=False)\n",
    "    y_train_encoded = label_encoder.fit_transform(y_train.reshape(-1, 1))\n",
    "    y_test_encoded = label_encoder.transform(y_test.reshape(-1, 1))\n",
    "\n",
    "    return X_train, X_test, y_train_encoded, y_test_encoded"
   ]
  },
  {
   "cell_type": "markdown",
   "metadata": {},
   "source": [
    "## Simple NN"
   ]
  },
  {
   "cell_type": "code",
   "execution_count": 55,
   "metadata": {},
   "outputs": [],
   "source": [
    "def simple_nn(data):\n",
    "\n",
    "    X_train, X_test, y_train, y_test = preprocess_data(data)\n",
    "\n",
    "    num_classes = y_train.shape[1]\n",
    "    num_features = X_train.shape[1]\n",
    "\n",
    "    model = Sequential([\n",
    "    Dense(2048, activation='relu', input_shape=(num_features,)),\n",
    "    Dense(1024, activation='tanh'),\n",
    "    BatchNormalization(),\n",
    "    Dropout(0.5),\n",
    "    Dense(num_classes, activation='softmax')\n",
    "])\n",
    "\n",
    "    model.compile(optimizer='adam', loss='categorical_crossentropy', metrics=['accuracy'])\n",
    "    # model.compile(optimizer='adam', loss='sparse_categorical_crossentropy', metrics=['accuracy'])\n",
    "\n",
    "    model.fit(X_train, y_train, epochs=10, batch_size=1, verbose=1)\n",
    "    # model.fit(X_train, y_train_encoded, epochs=50, batch_size=8, validation_split=0.2)\n",
    "\n",
    "    loss, accuracy = model.evaluate(X_test, y_test, verbose=0)\n",
    "    print(f'Test loss: {loss:.2f}, Test accuracy: {accuracy*100:.2f}%')\n",
    "\n",
    "    return model"
   ]
  },
  {
   "cell_type": "code",
   "execution_count": 56,
   "metadata": {},
   "outputs": [
    {
     "name": "stdout",
     "output_type": "stream",
     "text": [
      "Epoch 1/10\n",
      "28/28 [==============================] - 1s 25ms/step - loss: 1.6084 - accuracy: 0.1429\n",
      "Epoch 2/10\n",
      "28/28 [==============================] - 1s 25ms/step - loss: 1.5578 - accuracy: 0.1786\n",
      "Epoch 3/10\n",
      "28/28 [==============================] - 1s 25ms/step - loss: 1.5112 - accuracy: 0.3214\n",
      "Epoch 4/10\n",
      "28/28 [==============================] - 1s 23ms/step - loss: 1.4999 - accuracy: 0.3214\n",
      "Epoch 5/10\n",
      "28/28 [==============================] - 1s 24ms/step - loss: 1.4957 - accuracy: 0.3214\n",
      "Epoch 6/10\n",
      "28/28 [==============================] - 1s 24ms/step - loss: 1.5011 - accuracy: 0.3214\n",
      "Epoch 7/10\n",
      "28/28 [==============================] - 1s 24ms/step - loss: 1.5012 - accuracy: 0.3214\n",
      "Epoch 8/10\n",
      "28/28 [==============================] - 1s 24ms/step - loss: 1.5015 - accuracy: 0.3214\n",
      "Epoch 9/10\n",
      "28/28 [==============================] - 1s 24ms/step - loss: 1.4974 - accuracy: 0.3214\n",
      "Epoch 10/10\n",
      "28/28 [==============================] - 1s 24ms/step - loss: 1.5023 - accuracy: 0.3214\n",
      "Test loss: 7.89, Test accuracy: 14.29%\n"
     ]
    }
   ],
   "source": [
    "simple_model = simple_nn(data)"
   ]
  },
  {
   "cell_type": "markdown",
   "metadata": {},
   "source": [
    "## LeCun architecture CNN model"
   ]
  },
  {
   "cell_type": "code",
   "execution_count": 60,
   "metadata": {},
   "outputs": [],
   "source": [
    "def lecun_cnn(data):\n",
    "    \n",
    "    X_train, X_test, y_train, y_test = preprocess_data(data)\n",
    "\n",
    "    spectral_length = X_train.shape[1]\n",
    "    num_classes = y_train.shape[1]\n",
    "\n",
    "    model = models.Sequential()\n",
    "\n",
    "    # First Layer\n",
    "    model.add(Conv1D(16, 21, input_shape=(spectral_length, 1)))\n",
    "    model.add(BatchNormalization())\n",
    "    model.add(LeakyReLU())\n",
    "    model.add(MaxPooling1D(2))\n",
    "\n",
    "    # Second Layer\n",
    "    model.add(Conv1D(32, 11))\n",
    "    model.add(BatchNormalization())\n",
    "    model.add(LeakyReLU())\n",
    "    model.add(MaxPooling1D(2))\n",
    "\n",
    "    # Third Layer\n",
    "    model.add(Conv1D(64, 5))\n",
    "    model.add(BatchNormalization())\n",
    "    model.add(LeakyReLU())\n",
    "    model.add(MaxPooling1D(2))\n",
    "\n",
    "    # Concatenate and Flatten\n",
    "    model.add(Flatten())\n",
    "\n",
    "    # Dense Layers\n",
    "    model.add(Dense(2048, activation='tanh'))\n",
    "    model.add(BatchNormalization())\n",
    "    model.add(MaxPooling1D(2))\n",
    "    model.add(Dropout(0.5))\n",
    "\n",
    "    # Output Layer\n",
    "    model.add(Dense(num_classes, activation='softmax'))\n",
    "\n",
    "    # Compile the model\n",
    "    model.compile(optimizer='adam', loss='categorical_crossentropy', metrics=['accuracy'])\n",
    "\n",
    "    model.fit(X_train, y_train, epochs=10, validation_data=(X_test, y_test), verbose=0)\n",
    "\n",
    "    test_loss, test_accuracy = model.evaluate(X_test, y_test, verbose=0)\n",
    "    print(f'Test Loss: {test_loss*100:.2f}% - Test Accuracy: {test_accuracy*100:.2f}%')\n",
    "\n",
    "    return model"
   ]
  },
  {
   "cell_type": "code",
   "execution_count": 61,
   "metadata": {},
   "outputs": [
    {
     "ename": "ValueError",
     "evalue": "Input 0 of layer \"max_pooling1d_5\" is incompatible with the layer: expected ndim=3, found ndim=2. Full shape received: (None, 2048)",
     "output_type": "error",
     "traceback": [
      "\u001b[0;31m---------------------------------------------------------------------------\u001b[0m",
      "\u001b[0;31mValueError\u001b[0m                                Traceback (most recent call last)",
      "\u001b[1;32m/home/x41emon/kod/ml/Raman_Spectroscopy_GAN/notebooks/mul_class_clf_models.ipynb Cell 13\u001b[0m line \u001b[0;36m1\n\u001b[0;32m----> <a href='vscode-notebook-cell:/home/x41emon/kod/ml/Raman_Spectroscopy_GAN/notebooks/mul_class_clf_models.ipynb#X23sZmlsZQ%3D%3D?line=0'>1</a>\u001b[0m lecun_cnn_model \u001b[39m=\u001b[39m lecun_cnn(data)\n",
      "\u001b[1;32m/home/x41emon/kod/ml/Raman_Spectroscopy_GAN/notebooks/mul_class_clf_models.ipynb Cell 13\u001b[0m line \u001b[0;36m3\n\u001b[1;32m     <a href='vscode-notebook-cell:/home/x41emon/kod/ml/Raman_Spectroscopy_GAN/notebooks/mul_class_clf_models.ipynb#X23sZmlsZQ%3D%3D?line=31'>32</a>\u001b[0m model\u001b[39m.\u001b[39madd(Dense(\u001b[39m2048\u001b[39m, activation\u001b[39m=\u001b[39m\u001b[39m'\u001b[39m\u001b[39mtanh\u001b[39m\u001b[39m'\u001b[39m))\n\u001b[1;32m     <a href='vscode-notebook-cell:/home/x41emon/kod/ml/Raman_Spectroscopy_GAN/notebooks/mul_class_clf_models.ipynb#X23sZmlsZQ%3D%3D?line=32'>33</a>\u001b[0m model\u001b[39m.\u001b[39madd(BatchNormalization())\n\u001b[0;32m---> <a href='vscode-notebook-cell:/home/x41emon/kod/ml/Raman_Spectroscopy_GAN/notebooks/mul_class_clf_models.ipynb#X23sZmlsZQ%3D%3D?line=33'>34</a>\u001b[0m model\u001b[39m.\u001b[39;49madd(MaxPooling1D(\u001b[39m2\u001b[39;49m))\n\u001b[1;32m     <a href='vscode-notebook-cell:/home/x41emon/kod/ml/Raman_Spectroscopy_GAN/notebooks/mul_class_clf_models.ipynb#X23sZmlsZQ%3D%3D?line=34'>35</a>\u001b[0m model\u001b[39m.\u001b[39madd(Dropout(\u001b[39m0.5\u001b[39m))\n\u001b[1;32m     <a href='vscode-notebook-cell:/home/x41emon/kod/ml/Raman_Spectroscopy_GAN/notebooks/mul_class_clf_models.ipynb#X23sZmlsZQ%3D%3D?line=36'>37</a>\u001b[0m \u001b[39m# Output Layer\u001b[39;00m\n",
      "File \u001b[0;32m~/.local/lib/python3.11/site-packages/tensorflow/python/trackable/base.py:204\u001b[0m, in \u001b[0;36mno_automatic_dependency_tracking.<locals>._method_wrapper\u001b[0;34m(self, *args, **kwargs)\u001b[0m\n\u001b[1;32m    202\u001b[0m \u001b[39mself\u001b[39m\u001b[39m.\u001b[39m_self_setattr_tracking \u001b[39m=\u001b[39m \u001b[39mFalse\u001b[39;00m  \u001b[39m# pylint: disable=protected-access\u001b[39;00m\n\u001b[1;32m    203\u001b[0m \u001b[39mtry\u001b[39;00m:\n\u001b[0;32m--> 204\u001b[0m   result \u001b[39m=\u001b[39m method(\u001b[39mself\u001b[39;49m, \u001b[39m*\u001b[39;49margs, \u001b[39m*\u001b[39;49m\u001b[39m*\u001b[39;49mkwargs)\n\u001b[1;32m    205\u001b[0m \u001b[39mfinally\u001b[39;00m:\n\u001b[1;32m    206\u001b[0m   \u001b[39mself\u001b[39m\u001b[39m.\u001b[39m_self_setattr_tracking \u001b[39m=\u001b[39m previous_value  \u001b[39m# pylint: disable=protected-access\u001b[39;00m\n",
      "File \u001b[0;32m~/.local/lib/python3.11/site-packages/keras/src/utils/traceback_utils.py:70\u001b[0m, in \u001b[0;36mfilter_traceback.<locals>.error_handler\u001b[0;34m(*args, **kwargs)\u001b[0m\n\u001b[1;32m     67\u001b[0m     filtered_tb \u001b[39m=\u001b[39m _process_traceback_frames(e\u001b[39m.\u001b[39m__traceback__)\n\u001b[1;32m     68\u001b[0m     \u001b[39m# To get the full stack trace, call:\u001b[39;00m\n\u001b[1;32m     69\u001b[0m     \u001b[39m# `tf.debugging.disable_traceback_filtering()`\u001b[39;00m\n\u001b[0;32m---> 70\u001b[0m     \u001b[39mraise\u001b[39;00m e\u001b[39m.\u001b[39mwith_traceback(filtered_tb) \u001b[39mfrom\u001b[39;00m \u001b[39mNone\u001b[39;00m\n\u001b[1;32m     71\u001b[0m \u001b[39mfinally\u001b[39;00m:\n\u001b[1;32m     72\u001b[0m     \u001b[39mdel\u001b[39;00m filtered_tb\n",
      "File \u001b[0;32m~/.local/lib/python3.11/site-packages/keras/src/engine/input_spec.py:235\u001b[0m, in \u001b[0;36massert_input_compatibility\u001b[0;34m(input_spec, inputs, layer_name)\u001b[0m\n\u001b[1;32m    233\u001b[0m     ndim \u001b[39m=\u001b[39m shape\u001b[39m.\u001b[39mrank\n\u001b[1;32m    234\u001b[0m     \u001b[39mif\u001b[39;00m ndim \u001b[39m!=\u001b[39m spec\u001b[39m.\u001b[39mndim:\n\u001b[0;32m--> 235\u001b[0m         \u001b[39mraise\u001b[39;00m \u001b[39mValueError\u001b[39;00m(\n\u001b[1;32m    236\u001b[0m             \u001b[39mf\u001b[39m\u001b[39m'\u001b[39m\u001b[39mInput \u001b[39m\u001b[39m{\u001b[39;00minput_index\u001b[39m}\u001b[39;00m\u001b[39m of layer \u001b[39m\u001b[39m\"\u001b[39m\u001b[39m{\u001b[39;00mlayer_name\u001b[39m}\u001b[39;00m\u001b[39m\"\u001b[39m\u001b[39m \u001b[39m\u001b[39m'\u001b[39m\n\u001b[1;32m    237\u001b[0m             \u001b[39m\"\u001b[39m\u001b[39mis incompatible with the layer: \u001b[39m\u001b[39m\"\u001b[39m\n\u001b[1;32m    238\u001b[0m             \u001b[39mf\u001b[39m\u001b[39m\"\u001b[39m\u001b[39mexpected ndim=\u001b[39m\u001b[39m{\u001b[39;00mspec\u001b[39m.\u001b[39mndim\u001b[39m}\u001b[39;00m\u001b[39m, found ndim=\u001b[39m\u001b[39m{\u001b[39;00mndim\u001b[39m}\u001b[39;00m\u001b[39m. \u001b[39m\u001b[39m\"\u001b[39m\n\u001b[1;32m    239\u001b[0m             \u001b[39mf\u001b[39m\u001b[39m\"\u001b[39m\u001b[39mFull shape received: \u001b[39m\u001b[39m{\u001b[39;00m\u001b[39mtuple\u001b[39m(shape)\u001b[39m}\u001b[39;00m\u001b[39m\"\u001b[39m\n\u001b[1;32m    240\u001b[0m         )\n\u001b[1;32m    241\u001b[0m \u001b[39mif\u001b[39;00m spec\u001b[39m.\u001b[39mmax_ndim \u001b[39mis\u001b[39;00m \u001b[39mnot\u001b[39;00m \u001b[39mNone\u001b[39;00m:\n\u001b[1;32m    242\u001b[0m     ndim \u001b[39m=\u001b[39m x\u001b[39m.\u001b[39mshape\u001b[39m.\u001b[39mrank\n",
      "\u001b[0;31mValueError\u001b[0m: Input 0 of layer \"max_pooling1d_5\" is incompatible with the layer: expected ndim=3, found ndim=2. Full shape received: (None, 2048)"
     ]
    }
   ],
   "source": [
    "lecun_cnn_model = lecun_cnn(data)"
   ]
  },
  {
   "cell_type": "markdown",
   "metadata": {},
   "source": [
    "## Report"
   ]
  },
  {
   "cell_type": "code",
   "execution_count": null,
   "metadata": {},
   "outputs": [],
   "source": []
  }
 ],
 "metadata": {
  "kernelspec": {
   "display_name": "Python 3",
   "language": "python",
   "name": "python3"
  },
  "language_info": {
   "codemirror_mode": {
    "name": "ipython",
    "version": 3
   },
   "file_extension": ".py",
   "mimetype": "text/x-python",
   "name": "python",
   "nbconvert_exporter": "python",
   "pygments_lexer": "ipython3",
   "version": "3.11.6"
  }
 },
 "nbformat": 4,
 "nbformat_minor": 2
}
