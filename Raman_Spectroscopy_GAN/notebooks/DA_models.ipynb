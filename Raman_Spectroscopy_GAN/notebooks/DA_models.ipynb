{
 "cells": [
  {
   "cell_type": "markdown",
   "metadata": {},
   "source": [
    "# Deep learning models for Data Augmentation"
   ]
  },
  {
   "cell_type": "markdown",
   "metadata": {},
   "source": [
    "## Import lib and read data"
   ]
  },
  {
   "cell_type": "code",
   "execution_count": 2,
   "metadata": {},
   "outputs": [
    {
     "name": "stderr",
     "output_type": "stream",
     "text": [
      "2023-11-13 15:27:19.608098: I tensorflow/tsl/cuda/cudart_stub.cc:28] Could not find cuda drivers on your machine, GPU will not be used.\n",
      "2023-11-13 15:27:19.636013: I tensorflow/tsl/cuda/cudart_stub.cc:28] Could not find cuda drivers on your machine, GPU will not be used.\n",
      "2023-11-13 15:27:19.636622: I tensorflow/core/platform/cpu_feature_guard.cc:182] This TensorFlow binary is optimized to use available CPU instructions in performance-critical operations.\n",
      "To enable the following instructions: AVX2 FMA, in other operations, rebuild TensorFlow with the appropriate compiler flags.\n",
      "2023-11-13 15:27:20.170350: W tensorflow/compiler/tf2tensorrt/utils/py_utils.cc:38] TF-TRT Warning: Could not find TensorRT\n"
     ]
    }
   ],
   "source": [
    "import numpy as np\n",
    "import pandas as pd \n",
    "# import matplotlib as mpl   \n",
    "# import matplotlib.pyplot as plt\n",
    "# import seaborn as sns\n",
    "# from scipy.signal import find_peaks, savgol_filter\n",
    "from sklearn.model_selection import train_test_split\n",
    "from sklearn.preprocessing import StandardScaler, LabelEncoder, OneHotEncoder\n",
    "from keras import layers, models\n",
    "from keras.models import Sequential\n",
    "from keras.layers import Dense, Conv1D, Flatten, LeakyReLU, BatchNormalization, MaxPooling1D, Dropout\n",
    "# from keras.utils import to_categorical\n",
    "# import glob"
   ]
  },
  {
   "cell_type": "code",
   "execution_count": 3,
   "metadata": {},
   "outputs": [],
   "source": [
    "data = pd.read_csv(\"../input/data.csv\")"
   ]
  },
  {
   "cell_type": "code",
   "execution_count": 4,
   "metadata": {},
   "outputs": [
    {
     "data": {
      "text/html": [
       "<div>\n",
       "<style scoped>\n",
       "    .dataframe tbody tr th:only-of-type {\n",
       "        vertical-align: middle;\n",
       "    }\n",
       "\n",
       "    .dataframe tbody tr th {\n",
       "        vertical-align: top;\n",
       "    }\n",
       "\n",
       "    .dataframe thead th {\n",
       "        text-align: right;\n",
       "    }\n",
       "</style>\n",
       "<table border=\"1\" class=\"dataframe\">\n",
       "  <thead>\n",
       "    <tr style=\"text-align: right;\">\n",
       "      <th></th>\n",
       "      <th>0</th>\n",
       "      <th>1</th>\n",
       "      <th>2</th>\n",
       "      <th>3</th>\n",
       "      <th>4</th>\n",
       "    </tr>\n",
       "  </thead>\n",
       "  <tbody>\n",
       "    <tr>\n",
       "      <th>320</th>\n",
       "      <td>-1.388896</td>\n",
       "      <td>16.722093</td>\n",
       "      <td>0.329687</td>\n",
       "      <td>-10.598846</td>\n",
       "      <td>10.015236</td>\n",
       "    </tr>\n",
       "    <tr>\n",
       "      <th>321</th>\n",
       "      <td>0.05821</td>\n",
       "      <td>-1.186429</td>\n",
       "      <td>-0.747993</td>\n",
       "      <td>-5.978379</td>\n",
       "      <td>12.575455</td>\n",
       "    </tr>\n",
       "    <tr>\n",
       "      <th>322</th>\n",
       "      <td>5.898464</td>\n",
       "      <td>-10.186022</td>\n",
       "      <td>-1.588051</td>\n",
       "      <td>1.822014</td>\n",
       "      <td>13.012607</td>\n",
       "    </tr>\n",
       "    <tr>\n",
       "      <th>323</th>\n",
       "      <td>5.849397</td>\n",
       "      <td>-3.832706</td>\n",
       "      <td>0.152671</td>\n",
       "      <td>12.90642</td>\n",
       "      <td>13.932454</td>\n",
       "    </tr>\n",
       "    <tr>\n",
       "      <th>324</th>\n",
       "      <td>2.37903</td>\n",
       "      <td>12.73007</td>\n",
       "      <td>5.357345</td>\n",
       "      <td>21.049637</td>\n",
       "      <td>13.677982</td>\n",
       "    </tr>\n",
       "    <tr>\n",
       "      <th>...</th>\n",
       "      <td>...</td>\n",
       "      <td>...</td>\n",
       "      <td>...</td>\n",
       "      <td>...</td>\n",
       "      <td>...</td>\n",
       "    </tr>\n",
       "    <tr>\n",
       "      <th>1648</th>\n",
       "      <td>1.384356</td>\n",
       "      <td>-4.633642</td>\n",
       "      <td>-5.380405</td>\n",
       "      <td>10.001486</td>\n",
       "      <td>35.561525</td>\n",
       "    </tr>\n",
       "    <tr>\n",
       "      <th>1649</th>\n",
       "      <td>16.59277</td>\n",
       "      <td>-6.431111</td>\n",
       "      <td>-6.852814</td>\n",
       "      <td>1.22302</td>\n",
       "      <td>37.348663</td>\n",
       "    </tr>\n",
       "    <tr>\n",
       "      <th>1650</th>\n",
       "      <td>8.760738</td>\n",
       "      <td>25.847542</td>\n",
       "      <td>-2.682321</td>\n",
       "      <td>1.914469</td>\n",
       "      <td>11.53166</td>\n",
       "    </tr>\n",
       "    <tr>\n",
       "      <th>Diagnostic</th>\n",
       "      <td>Streptavidin</td>\n",
       "      <td>Streptavidin</td>\n",
       "      <td>Streptavidin</td>\n",
       "      <td>S</td>\n",
       "      <td>S</td>\n",
       "    </tr>\n",
       "    <tr>\n",
       "      <th>COVID-19_Status</th>\n",
       "      <td>negative</td>\n",
       "      <td>negative</td>\n",
       "      <td>negative</td>\n",
       "      <td>positive</td>\n",
       "      <td>positive</td>\n",
       "    </tr>\n",
       "  </tbody>\n",
       "</table>\n",
       "<p>1333 rows × 5 columns</p>\n",
       "</div>"
      ],
      "text/plain": [
       "                            0             1             2          3  \\\n",
       "320                 -1.388896     16.722093      0.329687 -10.598846   \n",
       "321                   0.05821     -1.186429     -0.747993  -5.978379   \n",
       "322                  5.898464    -10.186022     -1.588051   1.822014   \n",
       "323                  5.849397     -3.832706      0.152671   12.90642   \n",
       "324                   2.37903      12.73007      5.357345  21.049637   \n",
       "...                       ...           ...           ...        ...   \n",
       "1648                 1.384356     -4.633642     -5.380405  10.001486   \n",
       "1649                 16.59277     -6.431111     -6.852814    1.22302   \n",
       "1650                 8.760738     25.847542     -2.682321   1.914469   \n",
       "Diagnostic       Streptavidin  Streptavidin  Streptavidin          S   \n",
       "COVID-19_Status      negative      negative      negative   positive   \n",
       "\n",
       "                         4  \n",
       "320              10.015236  \n",
       "321              12.575455  \n",
       "322              13.012607  \n",
       "323              13.932454  \n",
       "324              13.677982  \n",
       "...                    ...  \n",
       "1648             35.561525  \n",
       "1649             37.348663  \n",
       "1650              11.53166  \n",
       "Diagnostic               S  \n",
       "COVID-19_Status   positive  \n",
       "\n",
       "[1333 rows x 5 columns]"
      ]
     },
     "metadata": {},
     "output_type": "display_data"
    },
    {
     "data": {
      "text/plain": [
       "(35, 1333)"
      ]
     },
     "metadata": {},
     "output_type": "display_data"
    }
   ],
   "source": [
    "display(data.head().T, data.shape)"
   ]
  },
  {
   "cell_type": "markdown",
   "metadata": {},
   "source": [
    "## Data prep"
   ]
  },
  {
   "cell_type": "code",
   "execution_count": null,
   "metadata": {},
   "outputs": [],
   "source": []
  },
  {
   "cell_type": "markdown",
   "metadata": {},
   "source": [
    "## GAN (Generative Adversial Network)"
   ]
  },
  {
   "cell_type": "code",
   "execution_count": null,
   "metadata": {},
   "outputs": [],
   "source": []
  },
  {
   "cell_type": "markdown",
   "metadata": {},
   "source": [
    "## Others"
   ]
  },
  {
   "cell_type": "code",
   "execution_count": null,
   "metadata": {},
   "outputs": [],
   "source": []
  },
  {
   "cell_type": "markdown",
   "metadata": {},
   "source": [
    "## Report"
   ]
  },
  {
   "cell_type": "code",
   "execution_count": null,
   "metadata": {},
   "outputs": [],
   "source": []
  }
 ],
 "metadata": {
  "kernelspec": {
   "display_name": "Python 3",
   "language": "python",
   "name": "python3"
  },
  "language_info": {
   "codemirror_mode": {
    "name": "ipython",
    "version": 3
   },
   "file_extension": ".py",
   "mimetype": "text/x-python",
   "name": "python",
   "nbconvert_exporter": "python",
   "pygments_lexer": "ipython3",
   "version": "3.11.6"
  }
 },
 "nbformat": 4,
 "nbformat_minor": 2
}
