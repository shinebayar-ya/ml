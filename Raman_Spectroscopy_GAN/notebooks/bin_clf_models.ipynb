{
 "cells": [
  {
   "cell_type": "markdown",
   "metadata": {},
   "source": [
    "# Binary classification models"
   ]
  },
  {
   "cell_type": "code",
   "execution_count": 14,
   "metadata": {},
   "outputs": [],
   "source": [
    "import numpy as np\n",
    "import pandas as pd \n",
    "# import matplotlib as mpl   \n",
    "import matplotlib.pyplot as plt\n",
    "import seaborn as sns\n",
    "# from scipy.signal import find_peaks, savgol_filter\n",
    "from sklearn.model_selection import train_test_split\n",
    "from sklearn.preprocessing import StandardScaler, LabelEncoder, OneHotEncoder\n",
    "from keras import layers, models\n",
    "from keras.models import Sequential\n",
    "from keras.layers import Dense, Conv1D, Flatten, LeakyReLU, BatchNormalization, MaxPooling1D, Dropout\n",
    "# from keras.utils import to_categorical\n",
    "# import glob"
   ]
  },
  {
   "cell_type": "code",
   "execution_count": 2,
   "metadata": {},
   "outputs": [],
   "source": [
    "data = pd.read_csv(\"../input/data.csv\")"
   ]
  },
  {
   "cell_type": "code",
   "execution_count": 3,
   "metadata": {},
   "outputs": [
    {
     "data": {
      "text/html": [
       "<div>\n",
       "<style scoped>\n",
       "    .dataframe tbody tr th:only-of-type {\n",
       "        vertical-align: middle;\n",
       "    }\n",
       "\n",
       "    .dataframe tbody tr th {\n",
       "        vertical-align: top;\n",
       "    }\n",
       "\n",
       "    .dataframe thead th {\n",
       "        text-align: right;\n",
       "    }\n",
       "</style>\n",
       "<table border=\"1\" class=\"dataframe\">\n",
       "  <thead>\n",
       "    <tr style=\"text-align: right;\">\n",
       "      <th></th>\n",
       "      <th>84</th>\n",
       "      <th>85</th>\n",
       "      <th>86</th>\n",
       "      <th>87</th>\n",
       "      <th>88</th>\n",
       "    </tr>\n",
       "  </thead>\n",
       "  <tbody>\n",
       "    <tr>\n",
       "      <th>320</th>\n",
       "      <td>-6.045785</td>\n",
       "      <td>-31.838142</td>\n",
       "      <td>24.793552</td>\n",
       "      <td>-17.652415</td>\n",
       "      <td>10.166875</td>\n",
       "    </tr>\n",
       "    <tr>\n",
       "      <th>321</th>\n",
       "      <td>-2.643846</td>\n",
       "      <td>-15.583373</td>\n",
       "      <td>9.836824</td>\n",
       "      <td>-8.010407</td>\n",
       "      <td>17.069577</td>\n",
       "    </tr>\n",
       "    <tr>\n",
       "      <th>322</th>\n",
       "      <td>5.90005</td>\n",
       "      <td>-2.133733</td>\n",
       "      <td>-5.213078</td>\n",
       "      <td>0.189554</td>\n",
       "      <td>18.806734</td>\n",
       "    </tr>\n",
       "    <tr>\n",
       "      <th>323</th>\n",
       "      <td>26.189564</td>\n",
       "      <td>-0.542107</td>\n",
       "      <td>-17.161635</td>\n",
       "      <td>4.889334</td>\n",
       "      <td>10.689331</td>\n",
       "    </tr>\n",
       "    <tr>\n",
       "      <th>324</th>\n",
       "      <td>50.332134</td>\n",
       "      <td>-3.355853</td>\n",
       "      <td>-23.770711</td>\n",
       "      <td>10.708648</td>\n",
       "      <td>-1.810575</td>\n",
       "    </tr>\n",
       "    <tr>\n",
       "      <th>...</th>\n",
       "      <td>...</td>\n",
       "      <td>...</td>\n",
       "      <td>...</td>\n",
       "      <td>...</td>\n",
       "      <td>...</td>\n",
       "    </tr>\n",
       "    <tr>\n",
       "      <th>1648</th>\n",
       "      <td>-11.094865</td>\n",
       "      <td>-1.922447</td>\n",
       "      <td>15.928893</td>\n",
       "      <td>-6.342218</td>\n",
       "      <td>-4.904049</td>\n",
       "    </tr>\n",
       "    <tr>\n",
       "      <th>1649</th>\n",
       "      <td>-1.680172</td>\n",
       "      <td>3.625427</td>\n",
       "      <td>-1.459799</td>\n",
       "      <td>4.096149</td>\n",
       "      <td>14.514866</td>\n",
       "    </tr>\n",
       "    <tr>\n",
       "      <th>1650</th>\n",
       "      <td>11.265595</td>\n",
       "      <td>-4.314838</td>\n",
       "      <td>-8.896405</td>\n",
       "      <td>3.117341</td>\n",
       "      <td>9.982839</td>\n",
       "    </tr>\n",
       "    <tr>\n",
       "      <th>Diagnostic</th>\n",
       "      <td>VLP</td>\n",
       "      <td>VLP</td>\n",
       "      <td>VLP</td>\n",
       "      <td>VLP</td>\n",
       "      <td>VLP</td>\n",
       "    </tr>\n",
       "    <tr>\n",
       "      <th>COVID-19_Status</th>\n",
       "      <td>positive</td>\n",
       "      <td>positive</td>\n",
       "      <td>positive</td>\n",
       "      <td>positive</td>\n",
       "      <td>positive</td>\n",
       "    </tr>\n",
       "  </tbody>\n",
       "</table>\n",
       "<p>1333 rows × 5 columns</p>\n",
       "</div>"
      ],
      "text/plain": [
       "                        84         85         86         87         88\n",
       "320              -6.045785 -31.838142  24.793552 -17.652415  10.166875\n",
       "321              -2.643846 -15.583373   9.836824  -8.010407  17.069577\n",
       "322                5.90005  -2.133733  -5.213078   0.189554  18.806734\n",
       "323              26.189564  -0.542107 -17.161635   4.889334  10.689331\n",
       "324              50.332134  -3.355853 -23.770711  10.708648  -1.810575\n",
       "...                    ...        ...        ...        ...        ...\n",
       "1648            -11.094865  -1.922447  15.928893  -6.342218  -4.904049\n",
       "1649             -1.680172   3.625427  -1.459799   4.096149  14.514866\n",
       "1650             11.265595  -4.314838  -8.896405   3.117341   9.982839\n",
       "Diagnostic             VLP        VLP        VLP        VLP        VLP\n",
       "COVID-19_Status   positive   positive   positive   positive   positive\n",
       "\n",
       "[1333 rows x 5 columns]"
      ]
     },
     "metadata": {},
     "output_type": "display_data"
    },
    {
     "data": {
      "text/plain": [
       "(89, 1333)"
      ]
     },
     "metadata": {},
     "output_type": "display_data"
    }
   ],
   "source": [
    "display(data.tail().T, data.shape)"
   ]
  },
  {
   "cell_type": "markdown",
   "metadata": {},
   "source": [
    "## Data prepration"
   ]
  },
  {
   "cell_type": "code",
   "execution_count": 4,
   "metadata": {},
   "outputs": [],
   "source": [
    "def preprocess_data(data):\n",
    "\n",
    "    X = data.drop(['Diagnostic', 'COVID-19_Status'], axis=1)\n",
    "    X.columns = X.columns.astype(int)\n",
    "    y = data['COVID-19_Status']\n",
    "\n",
    "    X_train, X_test, y_train, y_test = train_test_split(X, y, stratify=y, test_size=0.2, random_state=42)\n",
    "\n",
    "    label_encoder = LabelEncoder()\n",
    "    y_train_encoded = label_encoder.fit_transform(y_train)\n",
    "    y_test_encoded = label_encoder.transform(y_test)\n",
    "\n",
    "    return X_train, X_test, y_train_encoded, y_test_encoded"
   ]
  },
  {
   "cell_type": "markdown",
   "metadata": {},
   "source": [
    "## Simple Neural Network"
   ]
  },
  {
   "cell_type": "code",
   "execution_count": 21,
   "metadata": {},
   "outputs": [],
   "source": [
    "def simple_nn(data):\n",
    "\n",
    "    X_train, X_test, y_train, y_test = preprocess_data(data)\n",
    "\n",
    "    model = Sequential([\n",
    "        Dense(2048, input_dim= X_train.shape[1], activation='relu'),\n",
    "        Dense(1, activation='sigmoid')\n",
    "    ])\n",
    "\n",
    "    model.compile(loss='binary_crossentropy', optimizer='adam', metrics=['accuracy'])\n",
    "\n",
    "    train_loss = []\n",
    "    train_accuracy = []\n",
    "    test_loss = []\n",
    "    test_accuracy = []\n",
    "    NUM_EPOCHs = 30\n",
    "    for i in range(NUM_EPOCHs):\n",
    "        history = model.fit(X_train, y_train, epochs=1, batch_size=8, verbose=0)\n",
    "        \n",
    "        train_loss.append(history.history['loss'][0])\n",
    "        train_accuracy.append(history.history['accuracy'][0])\n",
    "\n",
    "        loss, accuracy = model.evaluate(X_test, y_test, verbose=0)\n",
    "\n",
    "        test_loss.append(loss)\n",
    "        test_accuracy.append(accuracy)\n",
    "        print(f'Epoch {i+1} => Test Loss: {loss*100:.2f}% - Test Accuracy: {accuracy*100:.2f}%')\n",
    "\n",
    "    plt.figure(figsize=(15, 8))\n",
    "    plt.plot(train_loss, label='train_loss')\n",
    "    plt.plot(train_accuracy, label='train_accuracy')\n",
    "    plt.plot(test_loss, label='test_loss')\n",
    "    plt.plot(test_accuracy, label='test_accuracy')\n",
    "    plt.title('Model accuracy')\n",
    "    plt.xlabel('Epoch')\n",
    "    plt.ylabel('Accuracy')\n",
    "    plt.ylim(0, 1)\n",
    "    plt.legend(loc='upper left')\n",
    "    plt.show() \n",
    "    return model"
   ]
  },
  {
   "cell_type": "code",
   "execution_count": 22,
   "metadata": {},
   "outputs": [
    {
     "name": "stdout",
     "output_type": "stream",
     "text": [
      "Epoch 1 => Test Loss: 1264.92% - Test Accuracy: 88.89%\n",
      "Epoch 2 => Test Loss: 1015.12% - Test Accuracy: 94.44%\n",
      "Epoch 3 => Test Loss: 869.28% - Test Accuracy: 94.44%\n",
      "Epoch 4 => Test Loss: 748.34% - Test Accuracy: 94.44%\n",
      "Epoch 5 => Test Loss: 689.56% - Test Accuracy: 94.44%\n",
      "Epoch 6 => Test Loss: 663.33% - Test Accuracy: 94.44%\n",
      "Epoch 7 => Test Loss: 651.98% - Test Accuracy: 94.44%\n",
      "Epoch 8 => Test Loss: 609.46% - Test Accuracy: 94.44%\n",
      "Epoch 9 => Test Loss: 579.89% - Test Accuracy: 94.44%\n",
      "Epoch 10 => Test Loss: 567.75% - Test Accuracy: 94.44%\n",
      "Epoch 11 => Test Loss: 562.80% - Test Accuracy: 94.44%\n",
      "Epoch 12 => Test Loss: 560.78% - Test Accuracy: 94.44%\n",
      "Epoch 13 => Test Loss: 559.97% - Test Accuracy: 94.44%\n",
      "Epoch 14 => Test Loss: 559.64% - Test Accuracy: 94.44%\n",
      "Epoch 15 => Test Loss: 559.51% - Test Accuracy: 94.44%\n",
      "Epoch 16 => Test Loss: 559.46% - Test Accuracy: 94.44%\n",
      "Epoch 17 => Test Loss: 559.44% - Test Accuracy: 94.44%\n",
      "Epoch 18 => Test Loss: 559.43% - Test Accuracy: 94.44%\n",
      "Epoch 19 => Test Loss: 559.43% - Test Accuracy: 94.44%\n",
      "Epoch 20 => Test Loss: 559.43% - Test Accuracy: 94.44%\n",
      "Epoch 21 => Test Loss: 559.43% - Test Accuracy: 94.44%\n",
      "Epoch 22 => Test Loss: 559.43% - Test Accuracy: 94.44%\n",
      "Epoch 23 => Test Loss: 559.43% - Test Accuracy: 94.44%\n",
      "Epoch 24 => Test Loss: 559.43% - Test Accuracy: 94.44%\n",
      "Epoch 25 => Test Loss: 559.43% - Test Accuracy: 94.44%\n",
      "Epoch 26 => Test Loss: 559.43% - Test Accuracy: 94.44%\n",
      "Epoch 27 => Test Loss: 559.43% - Test Accuracy: 94.44%\n",
      "Epoch 28 => Test Loss: 559.43% - Test Accuracy: 94.44%\n",
      "Epoch 29 => Test Loss: 559.43% - Test Accuracy: 94.44%\n",
      "Epoch 30 => Test Loss: 559.43% - Test Accuracy: 94.44%\n"
     ]
    },
    {
     "data": {
      "image/png": "[encoded data removed]",
      "text/plain": [
       "<Figure size 1080x576 with 1 Axes>"
      ]
     },
     "metadata": {
      "needs_background": "light"
     },
     "output_type": "display_data"
    }
   ],
   "source": [
    "simple_model = simple_nn(data)"
   ]
  },
  {
   "cell_type": "code",
   "execution_count": null,
   "metadata": {},
   "outputs": [],
   "source": []
  },
  {
   "cell_type": "markdown",
   "metadata": {},
   "source": [
    "## CNN (Convolution Neural Network) model"
   ]
  },
  {
   "cell_type": "code",
   "execution_count": 23,
   "metadata": {},
   "outputs": [],
   "source": [
    "def simple_cnn(data):\n",
    "\n",
    "    X_train, X_test, y_train, y_test = preprocess_data(data)\n",
    "\n",
    "    model = Sequential([\n",
    "        layers.Conv1D(32, 3, activation='relu', input_shape=(X_train.shape[1], 1)),\n",
    "        layers.MaxPooling1D(2),\n",
    "        layers.Flatten(),\n",
    "        layers.Dense(64, activation='relu'),\n",
    "        layers.Dense(1, activation='sigmoid')\n",
    "    ])\n",
    "\n",
    "    model.compile(optimizer='adam',\n",
    "              loss='binary_crossentropy',\n",
    "              metrics=['accuracy'])\n",
    "    \n",
    "    train_loss = []\n",
    "    train_accuracy = []\n",
    "    test_loss = []\n",
    "    test_accuracy = []\n",
    "    NUM_EPOCHs = 10\n",
    "    for i in range(NUM_EPOCHs):\n",
    "        history = model.fit(X_train, y_train, epochs=1, batch_size=8, verbose=0)\n",
    "        \n",
    "        train_loss.append(history.history['loss'][0])\n",
    "        train_accuracy.append(history.history['accuracy'][0])\n",
    "\n",
    "        loss, accuracy = model.evaluate(X_test, y_test, verbose=0)\n",
    "\n",
    "        test_loss.append(loss)\n",
    "        test_accuracy.append(accuracy)\n",
    "        print(f'Epoch {i+1} => Test Loss: {loss*100:.2f}% - Test Accuracy: {accuracy*100:.2f}%')\n",
    "\n",
    "    plt.figure(figsize=(15, 8))\n",
    "    plt.plot(train_loss, label='train_loss')\n",
    "    plt.plot(train_accuracy, label='train_accuracy')\n",
    "    plt.plot(test_loss, label='test_loss')\n",
    "    plt.plot(test_accuracy, label='test_accuracy')\n",
    "    plt.title('Model accuracy')\n",
    "    plt.xlabel('Epoch')\n",
    "    plt.ylabel('Accuracy')\n",
    "    plt.ylim(0, 1)\n",
    "    plt.legend(loc='upper left')\n",
    "    plt.show()\n",
    "\n",
    "    return model"
   ]
  },
  {
   "cell_type": "code",
   "execution_count": 24,
   "metadata": {},
   "outputs": [
    {
     "name": "stdout",
     "output_type": "stream",
     "text": [
      "Epoch 1 => Test Loss: 835.38% - Test Accuracy: 94.44%\n",
      "Epoch 2 => Test Loss: 633.33% - Test Accuracy: 83.33%\n",
      "Epoch 3 => Test Loss: 710.08% - Test Accuracy: 94.44%\n",
      "Epoch 4 => Test Loss: 165.26% - Test Accuracy: 94.44%\n",
      "Epoch 5 => Test Loss: 97.50% - Test Accuracy: 88.89%\n",
      "Epoch 6 => Test Loss: 70.28% - Test Accuracy: 94.44%\n",
      "Epoch 7 => Test Loss: 242.60% - Test Accuracy: 94.44%\n",
      "Epoch 8 => Test Loss: 107.22% - Test Accuracy: 94.44%\n",
      "Epoch 9 => Test Loss: 50.88% - Test Accuracy: 94.44%\n",
      "Epoch 10 => Test Loss: 27.80% - Test Accuracy: 94.44%\n"
     ]
    },
    {
     "data": {
      "image/png": "[encoded data removed]",
      "text/plain": [
       "<Figure size 1080x576 with 1 Axes>"
      ]
     },
     "metadata": {
      "needs_background": "light"
     },
     "output_type": "display_data"
    }
   ],
   "source": [
    "simple_cnn_model = simple_cnn(data)"
   ]
  },
  {
   "cell_type": "markdown",
   "metadata": {},
   "source": []
  },
  {
   "cell_type": "markdown",
   "metadata": {},
   "source": [
    "## SVM (Support Vector Machine) model"
   ]
  },
  {
   "cell_type": "code",
   "execution_count": null,
   "metadata": {},
   "outputs": [],
   "source": []
  },
  {
   "cell_type": "markdown",
   "metadata": {},
   "source": [
    "## Report"
   ]
  },
  {
   "cell_type": "code",
   "execution_count": null,
   "metadata": {},
   "outputs": [],
   "source": []
  }
 ],
 "metadata": {
  "kernelspec": {
   "display_name": "Python 3",
   "language": "python",
   "name": "python3"
  },
  "language_info": {
   "codemirror_mode": {
    "name": "ipython",
    "version": 3
   },
   "file_extension": ".py",
   "mimetype": "text/x-python",
   "name": "python",
   "nbconvert_exporter": "python",
   "pygments_lexer": "ipython3",
   "version": "3.10.4"
  }
 },
 "nbformat": 4,
 "nbformat_minor": 2
}
