{
 "cells": [
  {
   "cell_type": "markdown",
   "metadata": {},
   "source": [
    "# Binary classification models"
   ]
  },
  {
   "cell_type": "code",
   "execution_count": 1,
   "metadata": {},
   "outputs": [],
   "source": [
    "import numpy as np\n",
    "import pandas as pd \n",
    "# import matplotlib as mpl   \n",
    "# import matplotlib.pyplot as plt\n",
    "# import seaborn as sns\n",
    "# from scipy.signal import find_peaks, savgol_filter\n",
    "from sklearn.model_selection import train_test_split\n",
    "from sklearn.preprocessing import StandardScaler, LabelEncoder, OneHotEncoder\n",
    "from keras import layers, models\n",
    "from keras.models import Sequential\n",
    "from keras.layers import Dense, Conv1D, Flatten, LeakyReLU, BatchNormalization, MaxPooling1D, Dropout\n",
    "# from keras.utils import to_categorical\n",
    "# import glob"
   ]
  },
  {
   "cell_type": "code",
   "execution_count": 2,
   "metadata": {},
   "outputs": [],
   "source": [
    "data = pd.read_csv(\"../input/data.csv\")"
   ]
  },
  {
   "cell_type": "code",
   "execution_count": 4,
   "metadata": {},
   "outputs": [
    {
     "data": {
      "text/html": [
       "<div>\n",
       "<style scoped>\n",
       "    .dataframe tbody tr th:only-of-type {\n",
       "        vertical-align: middle;\n",
       "    }\n",
       "\n",
       "    .dataframe tbody tr th {\n",
       "        vertical-align: top;\n",
       "    }\n",
       "\n",
       "    .dataframe thead th {\n",
       "        text-align: right;\n",
       "    }\n",
       "</style>\n",
       "<table border=\"1\" class=\"dataframe\">\n",
       "  <thead>\n",
       "    <tr style=\"text-align: right;\">\n",
       "      <th></th>\n",
       "      <th>0</th>\n",
       "      <th>1</th>\n",
       "      <th>2</th>\n",
       "      <th>3</th>\n",
       "      <th>4</th>\n",
       "    </tr>\n",
       "  </thead>\n",
       "  <tbody>\n",
       "    <tr>\n",
       "      <th>320</th>\n",
       "      <td>-1.388896</td>\n",
       "      <td>16.722093</td>\n",
       "      <td>0.329687</td>\n",
       "      <td>-10.598846</td>\n",
       "      <td>10.015236</td>\n",
       "    </tr>\n",
       "    <tr>\n",
       "      <th>321</th>\n",
       "      <td>0.05821</td>\n",
       "      <td>-1.186429</td>\n",
       "      <td>-0.747993</td>\n",
       "      <td>-5.978379</td>\n",
       "      <td>12.575455</td>\n",
       "    </tr>\n",
       "    <tr>\n",
       "      <th>322</th>\n",
       "      <td>5.898464</td>\n",
       "      <td>-10.186022</td>\n",
       "      <td>-1.588051</td>\n",
       "      <td>1.822014</td>\n",
       "      <td>13.012607</td>\n",
       "    </tr>\n",
       "    <tr>\n",
       "      <th>323</th>\n",
       "      <td>5.849397</td>\n",
       "      <td>-3.832706</td>\n",
       "      <td>0.152671</td>\n",
       "      <td>12.90642</td>\n",
       "      <td>13.932454</td>\n",
       "    </tr>\n",
       "    <tr>\n",
       "      <th>324</th>\n",
       "      <td>2.37903</td>\n",
       "      <td>12.73007</td>\n",
       "      <td>5.357345</td>\n",
       "      <td>21.049637</td>\n",
       "      <td>13.677982</td>\n",
       "    </tr>\n",
       "    <tr>\n",
       "      <th>...</th>\n",
       "      <td>...</td>\n",
       "      <td>...</td>\n",
       "      <td>...</td>\n",
       "      <td>...</td>\n",
       "      <td>...</td>\n",
       "    </tr>\n",
       "    <tr>\n",
       "      <th>1648</th>\n",
       "      <td>1.384356</td>\n",
       "      <td>-4.633642</td>\n",
       "      <td>-5.380405</td>\n",
       "      <td>10.001486</td>\n",
       "      <td>35.561525</td>\n",
       "    </tr>\n",
       "    <tr>\n",
       "      <th>1649</th>\n",
       "      <td>16.59277</td>\n",
       "      <td>-6.431111</td>\n",
       "      <td>-6.852814</td>\n",
       "      <td>1.22302</td>\n",
       "      <td>37.348663</td>\n",
       "    </tr>\n",
       "    <tr>\n",
       "      <th>1650</th>\n",
       "      <td>8.760738</td>\n",
       "      <td>25.847542</td>\n",
       "      <td>-2.682321</td>\n",
       "      <td>1.914469</td>\n",
       "      <td>11.53166</td>\n",
       "    </tr>\n",
       "    <tr>\n",
       "      <th>Diagnostic</th>\n",
       "      <td>Streptavidin</td>\n",
       "      <td>Streptavidin</td>\n",
       "      <td>Streptavidin</td>\n",
       "      <td>S</td>\n",
       "      <td>S</td>\n",
       "    </tr>\n",
       "    <tr>\n",
       "      <th>COVID-19_Status</th>\n",
       "      <td>negative</td>\n",
       "      <td>negative</td>\n",
       "      <td>negative</td>\n",
       "      <td>positive</td>\n",
       "      <td>positive</td>\n",
       "    </tr>\n",
       "  </tbody>\n",
       "</table>\n",
       "<p>1333 rows × 5 columns</p>\n",
       "</div>"
      ],
      "text/plain": [
       "                            0             1             2          3  \\\n",
       "320                 -1.388896     16.722093      0.329687 -10.598846   \n",
       "321                   0.05821     -1.186429     -0.747993  -5.978379   \n",
       "322                  5.898464    -10.186022     -1.588051   1.822014   \n",
       "323                  5.849397     -3.832706      0.152671   12.90642   \n",
       "324                   2.37903      12.73007      5.357345  21.049637   \n",
       "...                       ...           ...           ...        ...   \n",
       "1648                 1.384356     -4.633642     -5.380405  10.001486   \n",
       "1649                 16.59277     -6.431111     -6.852814    1.22302   \n",
       "1650                 8.760738     25.847542     -2.682321   1.914469   \n",
       "Diagnostic       Streptavidin  Streptavidin  Streptavidin          S   \n",
       "COVID-19_Status      negative      negative      negative   positive   \n",
       "\n",
       "                         4  \n",
       "320              10.015236  \n",
       "321              12.575455  \n",
       "322              13.012607  \n",
       "323              13.932454  \n",
       "324              13.677982  \n",
       "...                    ...  \n",
       "1648             35.561525  \n",
       "1649             37.348663  \n",
       "1650              11.53166  \n",
       "Diagnostic               S  \n",
       "COVID-19_Status   positive  \n",
       "\n",
       "[1333 rows x 5 columns]"
      ]
     },
     "metadata": {},
     "output_type": "display_data"
    },
    {
     "data": {
      "text/plain": [
       "(35, 1333)"
      ]
     },
     "metadata": {},
     "output_type": "display_data"
    }
   ],
   "source": [
    "display(data.head().T, data.shape)"
   ]
  },
  {
   "cell_type": "markdown",
   "metadata": {},
   "source": [
    "## Data prepration"
   ]
  },
  {
   "cell_type": "code",
   "execution_count": 3,
   "metadata": {},
   "outputs": [],
   "source": [
    "def preprocess_data(data):\n",
    "\n",
    "    X = data.drop(['Diagnostic', 'COVID-19_Status'], axis=1)\n",
    "    X.columns = X.columns.astype(int)\n",
    "    y = data['COVID-19_Status']\n",
    "\n",
    "    X_train, X_test, y_train, y_test = train_test_split(X, y, stratify=y, test_size=0.2, random_state=42)\n",
    "\n",
    "    label_encoder = LabelEncoder()\n",
    "    y_train_encoded = label_encoder.fit_transform(y_train)\n",
    "    y_test_encoded = label_encoder.transform(y_test)\n",
    "\n",
    "    return X_train, X_test, y_train_encoded, y_test_encoded"
   ]
  },
  {
   "cell_type": "markdown",
   "metadata": {},
   "source": [
    "## Simple Neural Network"
   ]
  },
  {
   "cell_type": "code",
   "execution_count": 4,
   "metadata": {},
   "outputs": [],
   "source": [
    "def simple_nn(data):\n",
    "\n",
    "    X_train, X_test, y_train_encoded, y_test_encoded = preprocess_data(data)\n",
    "\n",
    "    model = Sequential([\n",
    "        Dense(2048, input_dim= X_train.shape[1], activation='relu'),\n",
    "        Dense(1, activation='sigmoid')\n",
    "    ])\n",
    "\n",
    "    model.compile(loss='binary_crossentropy', optimizer='adam', metrics=['accuracy'])\n",
    "\n",
    "    model.fit(X_train, y_train_encoded, epochs=5, verbose=1)\n",
    "    model.fit(X_train, y_train_encoded, epochs=5, verbose=1)\n",
    "    loss, accuracy = model.evaluate(X_test, y_test_encoded, verbose=0)\n",
    "    print(f'Test loss: {loss:.2f}, Test accuracy: {accuracy*100:.2f}%')\n",
    "\n",
    "    model.fit()\n",
    "\n",
    "    return model"
   ]
  },
  {
   "cell_type": "code",
   "execution_count": 5,
   "metadata": {},
   "outputs": [
    {
     "name": "stdout",
     "output_type": "stream",
     "text": [
      "Epoch 1/5\n",
      "1/1 [==============================] - 0s 367ms/step - loss: 7.8179 - accuracy: 0.8214\n",
      "Epoch 2/5\n",
      "1/1 [==============================] - 0s 25ms/step - loss: 695.8241 - accuracy: 0.1786\n",
      "Epoch 3/5\n",
      "1/1 [==============================] - 0s 23ms/step - loss: 200.7805 - accuracy: 0.1786\n",
      "Epoch 4/5\n",
      "1/1 [==============================] - 0s 27ms/step - loss: 7.4295 - accuracy: 0.8571\n",
      "Epoch 5/5\n",
      "1/1 [==============================] - 0s 25ms/step - loss: 59.6005 - accuracy: 0.8571\n",
      "Test loss: 90.33, Test accuracy: 85.71%\n"
     ]
    }
   ],
   "source": [
    "simple_model = simple_nn(data)"
   ]
  },
  {
   "cell_type": "code",
   "execution_count": null,
   "metadata": {},
   "outputs": [],
   "source": []
  },
  {
   "cell_type": "markdown",
   "metadata": {},
   "source": [
    "## CNN (Convolution Neural Network) model"
   ]
  },
  {
   "cell_type": "code",
   "execution_count": 9,
   "metadata": {},
   "outputs": [],
   "source": [
    "def simple_cnn(data):\n",
    "\n",
    "    X_train, X_test, y_train_encoded, y_test_encoded = preprocess_data(data)\n",
    "\n",
    "    model = Sequential([\n",
    "        layers.Conv1D(32, 3, activation='relu', input_shape=(X_train.shape[1], 1)),\n",
    "        layers.MaxPooling1D(2),\n",
    "        layers.Flatten(),\n",
    "        layers.Dense(64, activation='relu'),\n",
    "        layers.Dense(1, activation='sigmoid')\n",
    "    ])\n",
    "\n",
    "    model.compile(optimizer='adam',\n",
    "              loss='binary_crossentropy',\n",
    "              metrics=['accuracy'])\n",
    "    \n",
    "    model.fit(X_train, y_train_encoded, epochs=10, validation_data=(X_test, y_test_encoded), verbose=0)\n",
    "\n",
    "    test_loss, test_accuracy = model.evaluate(X_test, y_test_encoded, verbose=0)\n",
    "    print(f'Test Loss: {test_loss*100:.2f}% - Test Accuracy: {test_accuracy*100:.2f}%')\n",
    "\n",
    "    return model"
   ]
  },
  {
   "cell_type": "code",
   "execution_count": 10,
   "metadata": {},
   "outputs": [
    {
     "name": "stdout",
     "output_type": "stream",
     "text": [
      "Test Loss: 648.77% - Test Accuracy: 85.71%\n"
     ]
    }
   ],
   "source": [
    "simple_cnn_model = simple_cnn(data)"
   ]
  },
  {
   "cell_type": "markdown",
   "metadata": {},
   "source": []
  },
  {
   "cell_type": "markdown",
   "metadata": {},
   "source": [
    "## SVM (Support Vector Machine) model"
   ]
  },
  {
   "cell_type": "code",
   "execution_count": null,
   "metadata": {},
   "outputs": [],
   "source": []
  },
  {
   "cell_type": "markdown",
   "metadata": {},
   "source": [
    "## Report"
   ]
  },
  {
   "cell_type": "code",
   "execution_count": null,
   "metadata": {},
   "outputs": [],
   "source": []
  }
 ],
 "metadata": {
  "kernelspec": {
   "display_name": "Python 3",
   "language": "python",
   "name": "python3"
  },
  "language_info": {
   "codemirror_mode": {
    "name": "ipython",
    "version": 3
   },
   "file_extension": ".py",
   "mimetype": "text/x-python",
   "name": "python",
   "nbconvert_exporter": "python",
   "pygments_lexer": "ipython3",
   "version": "3.10.4"
  }
 },
 "nbformat": 4,
 "nbformat_minor": 2
}
