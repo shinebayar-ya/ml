{
 "cells": [
  {
   "cell_type": "markdown",
   "metadata": {},
   "source": [
    "# Ковидын эерэг болон сөрөг 2 ангилалын загвар"
   ]
  },
  {
   "cell_type": "markdown",
   "metadata": {},
   "source": [
    "## Сангуудаа импортлох"
   ]
  },
  {
   "cell_type": "code",
   "execution_count": 13,
   "metadata": {},
   "outputs": [],
   "source": [
    "import numpy as np\n",
    "import pandas as pd \n",
    "import matplotlib.pyplot as plt\n",
    "import seaborn as sns\n",
    "import itertools\n",
    "from sklearn.model_selection import train_test_split\n",
    "from sklearn.preprocessing import StandardScaler, LabelEncoder\n",
    "from sklearn.metrics import accuracy_score, classification_report, confusion_matrix\n",
    "from keras.models import Sequential\n",
    "from keras.layers import Dense, Conv1D, Flatten, LeakyReLU, BatchNormalization, MaxPooling1D, Dropout"
   ]
  },
  {
   "cell_type": "markdown",
   "metadata": {},
   "source": [
    "## Өгөгдлөө унших"
   ]
  },
  {
   "cell_type": "code",
   "execution_count": 5,
   "metadata": {},
   "outputs": [],
   "source": [
    "dataset = pd.read_csv('../../input/augmented_data/spectrum.csv', low_memory=False)"
   ]
  },
  {
   "cell_type": "code",
   "execution_count": 6,
   "metadata": {},
   "outputs": [
    {
     "data": {
      "text/html": [
       "<div>\n",
       "<style scoped>\n",
       "    .dataframe tbody tr th:only-of-type {\n",
       "        vertical-align: middle;\n",
       "    }\n",
       "\n",
       "    .dataframe tbody tr th {\n",
       "        vertical-align: top;\n",
       "    }\n",
       "\n",
       "    .dataframe thead th {\n",
       "        text-align: right;\n",
       "    }\n",
       "</style>\n",
       "<table border=\"1\" class=\"dataframe\">\n",
       "  <thead>\n",
       "    <tr style=\"text-align: right;\">\n",
       "      <th></th>\n",
       "      <th>0</th>\n",
       "      <th>1</th>\n",
       "      <th>2</th>\n",
       "      <th>3</th>\n",
       "      <th>4</th>\n",
       "    </tr>\n",
       "  </thead>\n",
       "  <tbody>\n",
       "    <tr>\n",
       "      <th>320</th>\n",
       "      <td>23.767617</td>\n",
       "      <td>6.554332</td>\n",
       "      <td>-65.876227</td>\n",
       "      <td>-3.539452</td>\n",
       "      <td>-32.211329</td>\n",
       "    </tr>\n",
       "    <tr>\n",
       "      <th>321</th>\n",
       "      <td>8.541673</td>\n",
       "      <td>-3.982771</td>\n",
       "      <td>-52.107447</td>\n",
       "      <td>-25.36141</td>\n",
       "      <td>3.569451</td>\n",
       "    </tr>\n",
       "    <tr>\n",
       "      <th>322</th>\n",
       "      <td>-6.737708</td>\n",
       "      <td>-12.508809</td>\n",
       "      <td>-43.797257</td>\n",
       "      <td>-22.890028</td>\n",
       "      <td>-25.360113</td>\n",
       "    </tr>\n",
       "    <tr>\n",
       "      <th>323</th>\n",
       "      <td>-13.844851</td>\n",
       "      <td>-14.161707</td>\n",
       "      <td>-34.973131</td>\n",
       "      <td>-15.633461</td>\n",
       "      <td>-24.382165</td>\n",
       "    </tr>\n",
       "    <tr>\n",
       "      <th>324</th>\n",
       "      <td>-15.338898</td>\n",
       "      <td>-11.528857</td>\n",
       "      <td>-24.758405</td>\n",
       "      <td>-24.196508</td>\n",
       "      <td>-13.837212</td>\n",
       "    </tr>\n",
       "    <tr>\n",
       "      <th>...</th>\n",
       "      <td>...</td>\n",
       "      <td>...</td>\n",
       "      <td>...</td>\n",
       "      <td>...</td>\n",
       "      <td>...</td>\n",
       "    </tr>\n",
       "    <tr>\n",
       "      <th>classfication</th>\n",
       "      <td>0</td>\n",
       "      <td>0</td>\n",
       "      <td>0</td>\n",
       "      <td>0</td>\n",
       "      <td>0</td>\n",
       "    </tr>\n",
       "    <tr>\n",
       "      <th>negpos</th>\n",
       "      <td>0</td>\n",
       "      <td>0</td>\n",
       "      <td>0</td>\n",
       "      <td>0</td>\n",
       "      <td>0</td>\n",
       "    </tr>\n",
       "    <tr>\n",
       "      <th>medium</th>\n",
       "      <td>NaN</td>\n",
       "      <td>NaN</td>\n",
       "      <td>NaN</td>\n",
       "      <td>NaN</td>\n",
       "      <td>NaN</td>\n",
       "    </tr>\n",
       "    <tr>\n",
       "      <th>mediumclassification</th>\n",
       "      <td>NaN</td>\n",
       "      <td>NaN</td>\n",
       "      <td>NaN</td>\n",
       "      <td>NaN</td>\n",
       "      <td>NaN</td>\n",
       "    </tr>\n",
       "    <tr>\n",
       "      <th>covid_status</th>\n",
       "      <td>negative</td>\n",
       "      <td>negative</td>\n",
       "      <td>negative</td>\n",
       "      <td>negative</td>\n",
       "      <td>negative</td>\n",
       "    </tr>\n",
       "  </tbody>\n",
       "</table>\n",
       "<p>1338 rows × 5 columns</p>\n",
       "</div>"
      ],
      "text/plain": [
       "                              0          1          2          3          4\n",
       "320                   23.767617   6.554332 -65.876227  -3.539452 -32.211329\n",
       "321                    8.541673  -3.982771 -52.107447  -25.36141   3.569451\n",
       "322                   -6.737708 -12.508809 -43.797257 -22.890028 -25.360113\n",
       "323                  -13.844851 -14.161707 -34.973131 -15.633461 -24.382165\n",
       "324                  -15.338898 -11.528857 -24.758405 -24.196508 -13.837212\n",
       "...                         ...        ...        ...        ...        ...\n",
       "classfication                 0          0          0          0          0\n",
       "negpos                        0          0          0          0          0\n",
       "medium                      NaN        NaN        NaN        NaN        NaN\n",
       "mediumclassification        NaN        NaN        NaN        NaN        NaN\n",
       "covid_status           negative   negative   negative   negative   negative\n",
       "\n",
       "[1338 rows x 5 columns]"
      ]
     },
     "metadata": {},
     "output_type": "display_data"
    },
    {
     "data": {
      "text/plain": [
       "(6400, 1338)"
      ]
     },
     "metadata": {},
     "output_type": "display_data"
    }
   ],
   "source": [
    "display(dataset.head().T, dataset.shape)"
   ]
  },
  {
   "cell_type": "markdown",
   "metadata": {},
   "source": [
    "## Өгөгдлөө бэлдэх"
   ]
  },
  {
   "cell_type": "code",
   "execution_count": 7,
   "metadata": {},
   "outputs": [],
   "source": [
    "def preprocess_data(data):\n",
    "    labels = data.columns[-7:]\n",
    "    X = data.drop(labels, axis=1)\n",
    "    X.columns = X.columns.astype(int)\n",
    "    y = data['covid_status']\n",
    "\n",
    "    X_train, X_test, y_train, y_test = train_test_split(X, y, stratify=y, test_size=0.25, random_state=42)\n",
    "\n",
    "    label_encoder = LabelEncoder()\n",
    "    y_train_encoded = label_encoder.fit_transform(y_train)\n",
    "    y_test_encoded = label_encoder.transform(y_test)\n",
    "\n",
    "    return X_train, X_test, y_train_encoded, y_test_encoded"
   ]
  },
  {
   "cell_type": "code",
   "execution_count": 8,
   "metadata": {},
   "outputs": [],
   "source": [
    "X_train, X_test, y_train, y_test = preprocess_data(dataset)"
   ]
  },
  {
   "cell_type": "code",
   "execution_count": 9,
   "metadata": {},
   "outputs": [
    {
     "name": "stdout",
     "output_type": "stream",
     "text": [
      "Train set:  [ 975 3825]\n",
      "Test set:  [ 325 1275]\n"
     ]
    }
   ],
   "source": [
    "_ , counts = np.unique(y_train, return_counts=True)\n",
    "print('Train set: ', counts)\n",
    "_ , counts = np.unique(y_test, return_counts=True)\n",
    "print('Test set: ', counts)"
   ]
  },
  {
   "cell_type": "code",
   "execution_count": 10,
   "metadata": {},
   "outputs": [],
   "source": [
    "NUM_EPOCHS = 50"
   ]
  },
  {
   "cell_type": "code",
   "execution_count": 11,
   "metadata": {},
   "outputs": [],
   "source": [
    "def simple_cnn(X_train, X_test, y_train, y_test, num_epochs=NUM_EPOCHS):\n",
    "\n",
    "    model = Sequential([\n",
    "        Conv1D(16, 21, input_shape=(X_train.shape[1], 1)),\n",
    "        BatchNormalization(),\n",
    "        LeakyReLU(0.01),\n",
    "        MaxPooling1D(16),\n",
    "        Dropout(0.1),\n",
    "\n",
    "        Conv1D(32, 11),\n",
    "        BatchNormalization(),\n",
    "        LeakyReLU(0.01),\n",
    "        MaxPooling1D(8),\n",
    "        Dropout(0.1),\n",
    "\n",
    "        Conv1D(64, 5),\n",
    "        BatchNormalization(),\n",
    "        LeakyReLU(0.01),\n",
    "        MaxPooling1D(4),\n",
    "        \n",
    "        Flatten(),\n",
    "        BatchNormalization(),\n",
    "\n",
    "        Dense(2048, activation='tanh'),\n",
    "        BatchNormalization(),\n",
    "        Dropout(0.5),\n",
    "        \n",
    "        Dense(1, activation='sigmoid')\n",
    "    ])\n",
    "\n",
    "    model.compile(optimizer='adam',\n",
    "              loss='binary_crossentropy',\n",
    "              metrics=['accuracy'])\n",
    "    \n",
    "    train_loss = []\n",
    "    train_accuracy = []\n",
    "    test_loss = []\n",
    "    test_accuracy = []\n",
    "    for i in range(num_epochs):\n",
    "        history = model.fit(X_train, y_train, epochs=1, batch_size=8, verbose=0)\n",
    "        \n",
    "        train_loss.append(history.history['loss'][0])\n",
    "        train_accuracy.append(history.history['accuracy'][0])\n",
    "\n",
    "        loss, accuracy = model.evaluate(X_test, y_test, verbose=0)\n",
    "\n",
    "        test_loss.append(loss)\n",
    "        test_accuracy.append(accuracy)\n",
    "        if (i + 1) % 5 == 0:\n",
    "            print(f'Epoch {i+1} => Test Loss: {loss:.2f} - Test Accuracy: {accuracy*100:.2f}%')\n",
    "\n",
    "    plt.figure(figsize=(15, 8))\n",
    "    # plt.plot(train_loss, label='train_loss')\n",
    "    plt.plot(train_accuracy, label='train_accuracy')\n",
    "    # plt.plot(test_loss, label='test_loss')\n",
    "    plt.plot(test_accuracy, label='test_accuracy')\n",
    "    plt.title('Model accuracy')\n",
    "    plt.xlabel('Epoch')\n",
    "    plt.ylabel('Accuracy')\n",
    "    # plt.ylim(0, 1)\n",
    "    plt.legend(loc='upper left')\n",
    "    plt.show()\n",
    "\n",
    "    return model"
   ]
  },
  {
   "cell_type": "code",
   "execution_count": 12,
   "metadata": {},
   "outputs": [
    {
     "name": "stdout",
     "output_type": "stream",
     "text": [
      "Epoch 5 => Test Loss: 0.00 - Test Accuracy: 100.00%\n",
      "Epoch 10 => Test Loss: 0.00 - Test Accuracy: 100.00%\n",
      "Epoch 15 => Test Loss: 0.00 - Test Accuracy: 100.00%\n",
      "Epoch 20 => Test Loss: 0.00 - Test Accuracy: 100.00%\n",
      "Epoch 25 => Test Loss: 0.00 - Test Accuracy: 100.00%\n",
      "Epoch 30 => Test Loss: 0.00 - Test Accuracy: 100.00%\n",
      "Epoch 35 => Test Loss: 0.00 - Test Accuracy: 100.00%\n",
      "Epoch 40 => Test Loss: 0.00 - Test Accuracy: 100.00%\n",
      "Epoch 45 => Test Loss: 0.00 - Test Accuracy: 100.00%\n",
      "Epoch 50 => Test Loss: 0.00 - Test Accuracy: 100.00%\n"
     ]
    },
    {
     "data": {
      "image/png": "[encoded data removed]",
      "text/plain": [
       "<Figure size 1080x576 with 1 Axes>"
      ]
     },
     "metadata": {
      "needs_background": "light"
     },
     "output_type": "display_data"
    }
   ],
   "source": [
    "lenet_model = simple_cnn(X_train, X_test, y_train, y_test)"
   ]
  },
  {
   "cell_type": "code",
   "execution_count": 14,
   "metadata": {},
   "outputs": [
    {
     "name": "stdout",
     "output_type": "stream",
     "text": [
      "50/50 [==============================] - 0s 3ms/step\n"
     ]
    },
    {
     "data": {
      "text/html": [
       "<div>\n",
       "<style scoped>\n",
       "    .dataframe tbody tr th:only-of-type {\n",
       "        vertical-align: middle;\n",
       "    }\n",
       "\n",
       "    .dataframe tbody tr th {\n",
       "        vertical-align: top;\n",
       "    }\n",
       "\n",
       "    .dataframe thead th {\n",
       "        text-align: right;\n",
       "    }\n",
       "</style>\n",
       "<table border=\"1\" class=\"dataframe\">\n",
       "  <thead>\n",
       "    <tr style=\"text-align: right;\">\n",
       "      <th></th>\n",
       "      <th>0</th>\n",
       "      <th>1</th>\n",
       "      <th>2</th>\n",
       "      <th>3</th>\n",
       "      <th>4</th>\n",
       "      <th>5</th>\n",
       "      <th>6</th>\n",
       "      <th>7</th>\n",
       "      <th>8</th>\n",
       "      <th>9</th>\n",
       "      <th>...</th>\n",
       "      <th>1590</th>\n",
       "      <th>1591</th>\n",
       "      <th>1592</th>\n",
       "      <th>1593</th>\n",
       "      <th>1594</th>\n",
       "      <th>1595</th>\n",
       "      <th>1596</th>\n",
       "      <th>1597</th>\n",
       "      <th>1598</th>\n",
       "      <th>1599</th>\n",
       "    </tr>\n",
       "  </thead>\n",
       "  <tbody>\n",
       "    <tr>\n",
       "      <th>0</th>\n",
       "      <td>1</td>\n",
       "      <td>0</td>\n",
       "      <td>0</td>\n",
       "      <td>1</td>\n",
       "      <td>0</td>\n",
       "      <td>1</td>\n",
       "      <td>0</td>\n",
       "      <td>1</td>\n",
       "      <td>1</td>\n",
       "      <td>1</td>\n",
       "      <td>...</td>\n",
       "      <td>1</td>\n",
       "      <td>1</td>\n",
       "      <td>1</td>\n",
       "      <td>1</td>\n",
       "      <td>1</td>\n",
       "      <td>0</td>\n",
       "      <td>0</td>\n",
       "      <td>1</td>\n",
       "      <td>1</td>\n",
       "      <td>1</td>\n",
       "    </tr>\n",
       "  </tbody>\n",
       "</table>\n",
       "<p>1 rows × 1600 columns</p>\n",
       "</div>"
      ],
      "text/plain": [
       "   0     1     2     3     4     5     6     7     8     9     ...  1590  \\\n",
       "0     1     0     0     1     0     1     0     1     1     1  ...     1   \n",
       "\n",
       "   1591  1592  1593  1594  1595  1596  1597  1598  1599  \n",
       "0     1     1     1     1     0     0     1     1     1  \n",
       "\n",
       "[1 rows x 1600 columns]"
      ]
     },
     "metadata": {},
     "output_type": "display_data"
    },
    {
     "data": {
      "text/html": [
       "<div>\n",
       "<style scoped>\n",
       "    .dataframe tbody tr th:only-of-type {\n",
       "        vertical-align: middle;\n",
       "    }\n",
       "\n",
       "    .dataframe tbody tr th {\n",
       "        vertical-align: top;\n",
       "    }\n",
       "\n",
       "    .dataframe thead th {\n",
       "        text-align: right;\n",
       "    }\n",
       "</style>\n",
       "<table border=\"1\" class=\"dataframe\">\n",
       "  <thead>\n",
       "    <tr style=\"text-align: right;\">\n",
       "      <th></th>\n",
       "      <th>0</th>\n",
       "      <th>1</th>\n",
       "      <th>2</th>\n",
       "      <th>3</th>\n",
       "      <th>4</th>\n",
       "      <th>5</th>\n",
       "      <th>6</th>\n",
       "      <th>7</th>\n",
       "      <th>8</th>\n",
       "      <th>9</th>\n",
       "      <th>...</th>\n",
       "      <th>1590</th>\n",
       "      <th>1591</th>\n",
       "      <th>1592</th>\n",
       "      <th>1593</th>\n",
       "      <th>1594</th>\n",
       "      <th>1595</th>\n",
       "      <th>1596</th>\n",
       "      <th>1597</th>\n",
       "      <th>1598</th>\n",
       "      <th>1599</th>\n",
       "    </tr>\n",
       "  </thead>\n",
       "  <tbody>\n",
       "    <tr>\n",
       "      <th>0</th>\n",
       "      <td>1</td>\n",
       "      <td>0</td>\n",
       "      <td>0</td>\n",
       "      <td>1</td>\n",
       "      <td>0</td>\n",
       "      <td>1</td>\n",
       "      <td>0</td>\n",
       "      <td>1</td>\n",
       "      <td>1</td>\n",
       "      <td>1</td>\n",
       "      <td>...</td>\n",
       "      <td>1</td>\n",
       "      <td>1</td>\n",
       "      <td>1</td>\n",
       "      <td>1</td>\n",
       "      <td>1</td>\n",
       "      <td>0</td>\n",
       "      <td>0</td>\n",
       "      <td>1</td>\n",
       "      <td>1</td>\n",
       "      <td>1</td>\n",
       "    </tr>\n",
       "  </tbody>\n",
       "</table>\n",
       "<p>1 rows × 1600 columns</p>\n",
       "</div>"
      ],
      "text/plain": [
       "   0     1     2     3     4     5     6     7     8     9     ...  1590  \\\n",
       "0     1     0     0     1     0     1     0     1     1     1  ...     1   \n",
       "\n",
       "   1591  1592  1593  1594  1595  1596  1597  1598  1599  \n",
       "0     1     1     1     1     0     0     1     1     1  \n",
       "\n",
       "[1 rows x 1600 columns]"
      ]
     },
     "metadata": {},
     "output_type": "display_data"
    },
    {
     "data": {
      "image/png": "[encoded data removed]",
      "text/plain": [
       "<Figure size 720x432 with 2 Axes>"
      ]
     },
     "metadata": {
      "needs_background": "light"
     },
     "output_type": "display_data"
    }
   ],
   "source": [
    "y_pred = lenet_model.predict(X_test)\n",
    "y_pred = y_pred.astype(int).reshape(-1)\n",
    "display(pd.DataFrame(y_test).T, pd.DataFrame(y_pred).T)\n",
    "\n",
    "cm = confusion_matrix(y_test, y_pred)\n",
    "\n",
    "fig, ax = plt.subplots(figsize=(10, 6)) \n",
    "sns.heatmap(cm, \n",
    "            ax=ax,\n",
    "            annot=True,\n",
    "            cmap=\"flare\",\n",
    "            linewidth=.5,\n",
    "            fmt='g', \n",
    "            xticklabels=['Эрүүл','Ковидтой'],\n",
    "            yticklabels=['Эрүүл','Ковидтой'])\n",
    "plt.xlabel('Таамагласан',fontsize=13)\n",
    "plt.ylabel('Бодит',fontsize=13)\n",
    "plt.title('Confusion Matrix',fontsize=17)\n",
    "plt.show()"
   ]
  },
  {
   "cell_type": "code",
   "execution_count": 15,
   "metadata": {},
   "outputs": [
    {
     "name": "stdout",
     "output_type": "stream",
     "text": [
      "TP: 325 FN: 0 \n",
      "FP: 7 TN: 1268\n",
      "Sensitivity: 100.00%\n",
      "Specificity: 99.45%\n",
      "Accuracy: 99.56%\n",
      "Classification Report:\n",
      "               precision    recall  f1-score   support\n",
      "\n",
      "           0       0.98      1.00      0.99       325\n",
      "           1       1.00      0.99      1.00      1275\n",
      "\n",
      "    accuracy                           1.00      1600\n",
      "   macro avg       0.99      1.00      0.99      1600\n",
      "weighted avg       1.00      1.00      1.00      1600\n",
      "\n"
     ]
    }
   ],
   "source": [
    "tp, fn, fp, tn = cm.ravel()\n",
    "print(f\"TP: {tp} FN: {fn} \\nFP: {fp} TN: {tn}\")\n",
    "\n",
    "report = classification_report(y_test, y_pred)\n",
    "\n",
    "sensitivity_ = tp / (tp + fn)\n",
    "specificity = tn / (tn + fp)\n",
    "accuracy = (tp + tn) / (tp + fp + tn + fn)\n",
    "\n",
    "print(f\"Sensitivity: {100 * sensitivity_:.2f}%\")\n",
    "print(f\"Specificity: {100 * specificity:.2f}%\")\n",
    "print(f\"Accuracy: {100 * accuracy:.2f}%\")\n",
    "print(\"Classification Report:\\n\", report)"
   ]
  },
  {
   "cell_type": "code",
   "execution_count": 16,
   "metadata": {},
   "outputs": [],
   "source": [
    "test_ds = pd.read_csv('../../input/clinical_sample/spectrum.csv')"
   ]
  },
  {
   "cell_type": "code",
   "execution_count": 17,
   "metadata": {},
   "outputs": [
    {
     "data": {
      "text/plain": [
       "(35, 1333)"
      ]
     },
     "execution_count": 17,
     "metadata": {},
     "output_type": "execute_result"
    }
   ],
   "source": [
    "test_ds.shape"
   ]
  },
  {
   "cell_type": "code",
   "execution_count": 18,
   "metadata": {},
   "outputs": [
    {
     "data": {
      "text/html": [
       "<div>\n",
       "<style scoped>\n",
       "    .dataframe tbody tr th:only-of-type {\n",
       "        vertical-align: middle;\n",
       "    }\n",
       "\n",
       "    .dataframe tbody tr th {\n",
       "        vertical-align: top;\n",
       "    }\n",
       "\n",
       "    .dataframe thead th {\n",
       "        text-align: right;\n",
       "    }\n",
       "</style>\n",
       "<table border=\"1\" class=\"dataframe\">\n",
       "  <thead>\n",
       "    <tr style=\"text-align: right;\">\n",
       "      <th></th>\n",
       "      <th>0</th>\n",
       "      <th>1</th>\n",
       "      <th>2</th>\n",
       "      <th>3</th>\n",
       "      <th>4</th>\n",
       "    </tr>\n",
       "  </thead>\n",
       "  <tbody>\n",
       "    <tr>\n",
       "      <th>320</th>\n",
       "      <td>25.2983</td>\n",
       "      <td>20.30437</td>\n",
       "      <td>16.893959</td>\n",
       "      <td>-36.049651</td>\n",
       "      <td>-11.886235</td>\n",
       "    </tr>\n",
       "    <tr>\n",
       "      <th>321</th>\n",
       "      <td>31.479134</td>\n",
       "      <td>-3.791936</td>\n",
       "      <td>16.638892</td>\n",
       "      <td>-19.645126</td>\n",
       "      <td>-12.665922</td>\n",
       "    </tr>\n",
       "    <tr>\n",
       "      <th>322</th>\n",
       "      <td>35.972784</td>\n",
       "      <td>-22.084277</td>\n",
       "      <td>16.978177</td>\n",
       "      <td>-2.667237</td>\n",
       "      <td>-11.410453</td>\n",
       "    </tr>\n",
       "    <tr>\n",
       "      <th>323</th>\n",
       "      <td>42.426246</td>\n",
       "      <td>-23.550407</td>\n",
       "      <td>22.367232</td>\n",
       "      <td>9.265691</td>\n",
       "      <td>4.168963</td>\n",
       "    </tr>\n",
       "    <tr>\n",
       "      <th>324</th>\n",
       "      <td>50.000132</td>\n",
       "      <td>-10.324397</td>\n",
       "      <td>30.121312</td>\n",
       "      <td>16.180717</td>\n",
       "      <td>29.627829</td>\n",
       "    </tr>\n",
       "    <tr>\n",
       "      <th>...</th>\n",
       "      <td>...</td>\n",
       "      <td>...</td>\n",
       "      <td>...</td>\n",
       "      <td>...</td>\n",
       "      <td>...</td>\n",
       "    </tr>\n",
       "    <tr>\n",
       "      <th>1648</th>\n",
       "      <td>5.494818</td>\n",
       "      <td>1.140878</td>\n",
       "      <td>1.415732</td>\n",
       "      <td>-4.302907</td>\n",
       "      <td>-20.411472</td>\n",
       "    </tr>\n",
       "    <tr>\n",
       "      <th>1649</th>\n",
       "      <td>-5.673703</td>\n",
       "      <td>7.089428</td>\n",
       "      <td>2.36151</td>\n",
       "      <td>1.27773</td>\n",
       "      <td>-26.535186</td>\n",
       "    </tr>\n",
       "    <tr>\n",
       "      <th>1650</th>\n",
       "      <td>-11.573432</td>\n",
       "      <td>9.249651</td>\n",
       "      <td>-11.636861</td>\n",
       "      <td>-8.427642</td>\n",
       "      <td>-27.951783</td>\n",
       "    </tr>\n",
       "    <tr>\n",
       "      <th>covid_status</th>\n",
       "      <td>positive</td>\n",
       "      <td>positive</td>\n",
       "      <td>positive</td>\n",
       "      <td>positive</td>\n",
       "      <td>positive</td>\n",
       "    </tr>\n",
       "    <tr>\n",
       "      <th>description</th>\n",
       "      <td>s1_1</td>\n",
       "      <td>s1_2</td>\n",
       "      <td>s1_3</td>\n",
       "      <td>s10_1</td>\n",
       "      <td>s10_2</td>\n",
       "    </tr>\n",
       "  </tbody>\n",
       "</table>\n",
       "<p>1333 rows × 5 columns</p>\n",
       "</div>"
      ],
      "text/plain": [
       "                      0          1          2          3          4\n",
       "320             25.2983   20.30437  16.893959 -36.049651 -11.886235\n",
       "321           31.479134  -3.791936  16.638892 -19.645126 -12.665922\n",
       "322           35.972784 -22.084277  16.978177  -2.667237 -11.410453\n",
       "323           42.426246 -23.550407  22.367232   9.265691   4.168963\n",
       "324           50.000132 -10.324397  30.121312  16.180717  29.627829\n",
       "...                 ...        ...        ...        ...        ...\n",
       "1648           5.494818   1.140878   1.415732  -4.302907 -20.411472\n",
       "1649          -5.673703   7.089428    2.36151    1.27773 -26.535186\n",
       "1650         -11.573432   9.249651 -11.636861  -8.427642 -27.951783\n",
       "covid_status   positive   positive   positive   positive   positive\n",
       "description        s1_1       s1_2       s1_3      s10_1      s10_2\n",
       "\n",
       "[1333 rows x 5 columns]"
      ]
     },
     "metadata": {},
     "output_type": "display_data"
    }
   ],
   "source": [
    "display(test_ds.head().T)"
   ]
  },
  {
   "cell_type": "code",
   "execution_count": 19,
   "metadata": {},
   "outputs": [],
   "source": [
    "_X_test = test_ds.drop(['covid_status', 'description'], axis=1)\n",
    "_X_test.columns = _X_test.columns.astype(int)\n",
    "_y_test = np.ones(_X_test.shape[0]).astype(int)"
   ]
  },
  {
   "cell_type": "code",
   "execution_count": 24,
   "metadata": {},
   "outputs": [
    {
     "name": "stdout",
     "output_type": "stream",
     "text": [
      "2/2 [==============================] - 0s 2ms/step\n",
      "\n",
      "CNN Model:\n",
      "Accuracy: 74.29%\n",
      "Confusion Matrix:\n",
      " [[ 0  0]\n",
      " [ 9 26]]\n"
     ]
    },
    {
     "data": {
      "image/png": "[encoded data removed]",
      "text/plain": [
       "<Figure size 576x288 with 2 Axes>"
      ]
     },
     "metadata": {
      "needs_background": "light"
     },
     "output_type": "display_data"
    }
   ],
   "source": [
    "_y_pred = lenet_model.predict(_X_test)\n",
    "_y_pred = _y_pred.astype(int).reshape(-1)\n",
    "accuracy = accuracy_score(_y_test, _y_pred)\n",
    "# report = classification_report(_y_test, _y_pred)\n",
    "cm = confusion_matrix(_y_test, _y_pred)\n",
    "\n",
    "print(f\"\\nCNN Model:\")\n",
    "print(f\"Accuracy: {100*accuracy:.2f}%\")\n",
    "# print(\"Classification Report:\\n\", report)\n",
    "print(\"Confusion Matrix:\\n\", cm)\n",
    "\n",
    "fig, ax = plt.subplots(figsize=(8, 4)) \n",
    "sns.heatmap(cm, \n",
    "            ax=ax,\n",
    "            annot=True,\n",
    "            cmap=\"flare\",\n",
    "            linewidth=.5,\n",
    "            fmt='g', \n",
    "            xticklabels=['Эрүүл','Ковидтой'],\n",
    "            yticklabels=['Эрүүл','Ковидтой'])\n",
    "plt.xlabel('Таамагласан',fontsize=13)\n",
    "plt.ylabel('Бодит',fontsize=13)\n",
    "plt.title('Confusion Matrix',fontsize=17)\n",
    "plt.show()"
   ]
  }
 ],
 "metadata": {
  "kernelspec": {
   "display_name": "Python 3",
   "language": "python",
   "name": "python3"
  },
  "language_info": {
   "codemirror_mode": {
    "name": "ipython",
    "version": 3
   },
   "file_extension": ".py",
   "mimetype": "text/x-python",
   "name": "python",
   "nbconvert_exporter": "python",
   "pygments_lexer": "ipython3",
   "version": "3.10.4"
  }
 },
 "nbformat": 4,
 "nbformat_minor": 2
}
