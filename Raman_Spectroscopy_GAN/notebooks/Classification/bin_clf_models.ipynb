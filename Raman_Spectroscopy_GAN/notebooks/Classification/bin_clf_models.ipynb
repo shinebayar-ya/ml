{
 "cells": [
  {
   "cell_type": "markdown",
   "metadata": {},
   "source": [
    "# Binary classification models"
   ]
  },
  {
   "cell_type": "code",
   "execution_count": 89,
   "metadata": {},
   "outputs": [],
   "source": [
    "import numpy as np\n",
    "import pandas as pd \n",
    "import matplotlib as mpl   \n",
    "import matplotlib.pyplot as plt\n",
    "import seaborn as sns\n",
    "# from scipy.signal import find_peaks, savgol_filter\n",
    "import itertools\n",
    "from sklearn.model_selection import train_test_split\n",
    "from sklearn.preprocessing import StandardScaler, LabelEncoder, OneHotEncoder\n",
    "from sklearn.metrics import precision_score, recall_score, f1_score, confusion_matrix\n",
    "from keras import layers, models\n",
    "from keras.models import Sequential\n",
    "from keras.layers import Dense, Conv1D, Flatten, LeakyReLU, BatchNormalization, MaxPooling1D, Dropout\n",
    "# from keras.utils import to_categorical\n",
    "# import glob"
   ]
  },
  {
   "cell_type": "code",
   "execution_count": 2,
   "metadata": {},
   "outputs": [],
   "source": [
    "data = pd.read_csv(\"../input/data.csv\")"
   ]
  },
  {
   "cell_type": "code",
   "execution_count": 3,
   "metadata": {},
   "outputs": [
    {
     "data": {
      "text/html": [
       "<div>\n",
       "<style scoped>\n",
       "    .dataframe tbody tr th:only-of-type {\n",
       "        vertical-align: middle;\n",
       "    }\n",
       "\n",
       "    .dataframe tbody tr th {\n",
       "        vertical-align: top;\n",
       "    }\n",
       "\n",
       "    .dataframe thead th {\n",
       "        text-align: right;\n",
       "    }\n",
       "</style>\n",
       "<table border=\"1\" class=\"dataframe\">\n",
       "  <thead>\n",
       "    <tr style=\"text-align: right;\">\n",
       "      <th></th>\n",
       "      <th>84</th>\n",
       "      <th>85</th>\n",
       "      <th>86</th>\n",
       "      <th>87</th>\n",
       "      <th>88</th>\n",
       "    </tr>\n",
       "  </thead>\n",
       "  <tbody>\n",
       "    <tr>\n",
       "      <th>320</th>\n",
       "      <td>-6.045785</td>\n",
       "      <td>-31.838142</td>\n",
       "      <td>24.793552</td>\n",
       "      <td>-17.652415</td>\n",
       "      <td>10.166875</td>\n",
       "    </tr>\n",
       "    <tr>\n",
       "      <th>321</th>\n",
       "      <td>-2.643846</td>\n",
       "      <td>-15.583373</td>\n",
       "      <td>9.836824</td>\n",
       "      <td>-8.010407</td>\n",
       "      <td>17.069577</td>\n",
       "    </tr>\n",
       "    <tr>\n",
       "      <th>322</th>\n",
       "      <td>5.90005</td>\n",
       "      <td>-2.133733</td>\n",
       "      <td>-5.213078</td>\n",
       "      <td>0.189554</td>\n",
       "      <td>18.806734</td>\n",
       "    </tr>\n",
       "    <tr>\n",
       "      <th>323</th>\n",
       "      <td>26.189564</td>\n",
       "      <td>-0.542107</td>\n",
       "      <td>-17.161635</td>\n",
       "      <td>4.889334</td>\n",
       "      <td>10.689331</td>\n",
       "    </tr>\n",
       "    <tr>\n",
       "      <th>324</th>\n",
       "      <td>50.332134</td>\n",
       "      <td>-3.355853</td>\n",
       "      <td>-23.770711</td>\n",
       "      <td>10.708648</td>\n",
       "      <td>-1.810575</td>\n",
       "    </tr>\n",
       "    <tr>\n",
       "      <th>...</th>\n",
       "      <td>...</td>\n",
       "      <td>...</td>\n",
       "      <td>...</td>\n",
       "      <td>...</td>\n",
       "      <td>...</td>\n",
       "    </tr>\n",
       "    <tr>\n",
       "      <th>1648</th>\n",
       "      <td>-11.094865</td>\n",
       "      <td>-1.922447</td>\n",
       "      <td>15.928893</td>\n",
       "      <td>-6.342218</td>\n",
       "      <td>-4.904049</td>\n",
       "    </tr>\n",
       "    <tr>\n",
       "      <th>1649</th>\n",
       "      <td>-1.680172</td>\n",
       "      <td>3.625427</td>\n",
       "      <td>-1.459799</td>\n",
       "      <td>4.096149</td>\n",
       "      <td>14.514866</td>\n",
       "    </tr>\n",
       "    <tr>\n",
       "      <th>1650</th>\n",
       "      <td>11.265595</td>\n",
       "      <td>-4.314838</td>\n",
       "      <td>-8.896405</td>\n",
       "      <td>3.117341</td>\n",
       "      <td>9.982839</td>\n",
       "    </tr>\n",
       "    <tr>\n",
       "      <th>Diagnostic</th>\n",
       "      <td>VLP</td>\n",
       "      <td>VLP</td>\n",
       "      <td>VLP</td>\n",
       "      <td>VLP</td>\n",
       "      <td>VLP</td>\n",
       "    </tr>\n",
       "    <tr>\n",
       "      <th>COVID-19_Status</th>\n",
       "      <td>positive</td>\n",
       "      <td>positive</td>\n",
       "      <td>positive</td>\n",
       "      <td>positive</td>\n",
       "      <td>positive</td>\n",
       "    </tr>\n",
       "  </tbody>\n",
       "</table>\n",
       "<p>1333 rows × 5 columns</p>\n",
       "</div>"
      ],
      "text/plain": [
       "                        84         85         86         87         88\n",
       "320              -6.045785 -31.838142  24.793552 -17.652415  10.166875\n",
       "321              -2.643846 -15.583373   9.836824  -8.010407  17.069577\n",
       "322                5.90005  -2.133733  -5.213078   0.189554  18.806734\n",
       "323              26.189564  -0.542107 -17.161635   4.889334  10.689331\n",
       "324              50.332134  -3.355853 -23.770711  10.708648  -1.810575\n",
       "...                    ...        ...        ...        ...        ...\n",
       "1648            -11.094865  -1.922447  15.928893  -6.342218  -4.904049\n",
       "1649             -1.680172   3.625427  -1.459799   4.096149  14.514866\n",
       "1650             11.265595  -4.314838  -8.896405   3.117341   9.982839\n",
       "Diagnostic             VLP        VLP        VLP        VLP        VLP\n",
       "COVID-19_Status   positive   positive   positive   positive   positive\n",
       "\n",
       "[1333 rows x 5 columns]"
      ]
     },
     "metadata": {},
     "output_type": "display_data"
    },
    {
     "data": {
      "text/plain": [
       "(89, 1333)"
      ]
     },
     "metadata": {},
     "output_type": "display_data"
    }
   ],
   "source": [
    "display(data.tail().T, data.shape)"
   ]
  },
  {
   "cell_type": "markdown",
   "metadata": {},
   "source": [
    "## Data prepration"
   ]
  },
  {
   "cell_type": "code",
   "execution_count": 4,
   "metadata": {},
   "outputs": [],
   "source": [
    "def preprocess_data(data):\n",
    "\n",
    "    X = data.drop(['Diagnostic', 'COVID-19_Status'], axis=1)\n",
    "    X.columns = X.columns.astype(int)\n",
    "    y = data['COVID-19_Status']\n",
    "\n",
    "    X_train, X_test, y_train, y_test = train_test_split(X, y, stratify=y, test_size=0.5, random_state=42)\n",
    "\n",
    "    label_encoder = LabelEncoder()\n",
    "    y_train_encoded = label_encoder.fit_transform(y_train)\n",
    "    y_test_encoded = label_encoder.transform(y_test)\n",
    "\n",
    "    return X_train, X_test, y_train_encoded, y_test_encoded"
   ]
  },
  {
   "cell_type": "markdown",
   "metadata": {},
   "source": [
    "## Simple Neural Network"
   ]
  },
  {
   "cell_type": "code",
   "execution_count": 5,
   "metadata": {},
   "outputs": [],
   "source": [
    "NUM_EPOCHS = 30"
   ]
  },
  {
   "cell_type": "code",
   "execution_count": 15,
   "metadata": {},
   "outputs": [],
   "source": [
    "X_train, X_test, y_train, y_test = preprocess_data(data)"
   ]
  },
  {
   "cell_type": "code",
   "execution_count": 16,
   "metadata": {},
   "outputs": [],
   "source": [
    "def simple_nn(X_train, X_test, y_train, y_test, num_epochs=30):\n",
    "    model = Sequential([\n",
    "        Dense(2048, input_dim= X_train.shape[1], activation='relu'),\n",
    "        Dense(1024, activation='relu'),\n",
    "        Dense(1, activation='sigmoid')\n",
    "    ])\n",
    "\n",
    "    model.compile(loss='binary_crossentropy', optimizer='adam', metrics=['accuracy'])\n",
    "\n",
    "    train_loss = []\n",
    "    train_accuracy = []\n",
    "    test_loss = []\n",
    "    test_accuracy = []\n",
    "    for i in range(num_epochs):\n",
    "        history = model.fit(X_train, y_train, epochs=1, batch_size=8, verbose=0)\n",
    "        \n",
    "        train_loss.append(history.history['loss'][0])\n",
    "        train_accuracy.append(history.history['accuracy'][0])\n",
    "\n",
    "        loss, accuracy = model.evaluate(X_test, y_test, verbose=0)\n",
    "\n",
    "        test_loss.append(loss)\n",
    "        test_accuracy.append(accuracy)\n",
    "        print(f'Epoch {i+1} => Test Loss: {loss:.2f} - Test Accuracy: {accuracy*100:.2f}%')\n",
    "\n",
    "    plt.figure(figsize=(15, 8))\n",
    "    # plt.plot(train_loss, label='train_loss')\n",
    "    plt.plot(train_accuracy, label='train_accuracy')\n",
    "    # plt.plot(test_loss, label='test_loss')\n",
    "    plt.plot(test_accuracy, label='test_accuracy')\n",
    "    plt.title('Model accuracy')\n",
    "    plt.xlabel('Epoch')\n",
    "    plt.ylabel('Accuracy')\n",
    "    # plt.ylim(0, 1)\n",
    "    plt.legend(loc='upper left')\n",
    "    plt.show() \n",
    "    return model"
   ]
  },
  {
   "cell_type": "code",
   "execution_count": null,
   "metadata": {},
   "outputs": [],
   "source": [
    "simple_model = simple_nn(X_train, X_test, y_train, y_test)"
   ]
  },
  {
   "cell_type": "code",
   "execution_count": 84,
   "metadata": {},
   "outputs": [
    {
     "name": "stdout",
     "output_type": "stream",
     "text": [
      "2/2 [==============================] - 0s 3ms/step\n"
     ]
    },
    {
     "data": {
      "text/plain": [
       "array([1, 1, 1, 1, 1, 1, 1, 1, 1, 1, 1, 1, 1, 1, 1, 1, 1, 0, 1, 1, 1, 1,\n",
       "       1, 1, 1, 1, 1, 1, 1, 1, 1, 1, 1, 1, 1, 1, 1, 1, 1, 1, 1, 1, 1, 0,\n",
       "       0])"
      ]
     },
     "metadata": {},
     "output_type": "display_data"
    },
    {
     "data": {
      "text/plain": [
       "array([1, 1, 1, 1, 1, 1, 1, 1, 1, 1, 1, 1, 1, 1, 1, 1, 1, 1, 1, 1, 1, 1,\n",
       "       1, 1, 1, 1, 1, 1, 1, 1, 1, 1, 1, 1, 1, 1, 1, 1, 1, 1, 1, 1, 1, 1,\n",
       "       1])"
      ]
     },
     "metadata": {},
     "output_type": "display_data"
    },
    {
     "data": {
      "image/png": "[encoded data removed]",
      "text/plain": [
       "<Figure size 720x432 with 2 Axes>"
      ]
     },
     "metadata": {
      "needs_background": "light"
     },
     "output_type": "display_data"
    }
   ],
   "source": [
    "y_pred = simple_model.predict(X_test)\n",
    "y_pred = y_pred.astype(int).reshape(-1)\n",
    "display(y_test, y_pred)\n",
    "\n",
    "cm = confusion_matrix(y_test, y_pred)\n",
    "\n",
    "fig, ax = plt.subplots(figsize=(10, 6)) \n",
    "sns.heatmap(cm, \n",
    "            ax=ax,\n",
    "            annot=True,\n",
    "            cmap=\"flare\",\n",
    "            linewidth=.5,\n",
    "            fmt='g', \n",
    "            xticklabels=['Эрүүл','Ковидтой'],\n",
    "            yticklabels=['Эрүүл','Ковидтой'])\n",
    "plt.xlabel('Таамагласан',fontsize=13)\n",
    "plt.ylabel('Бодит',fontsize=13)\n",
    "plt.title('Confusion Matrix',fontsize=17)\n",
    "plt.show()"
   ]
  },
  {
   "cell_type": "code",
   "execution_count": 94,
   "metadata": {},
   "outputs": [
    {
     "data": {
      "text/plain": [
       "0"
      ]
     },
     "metadata": {},
     "output_type": "display_data"
    },
    {
     "data": {
      "text/plain": [
       "3"
      ]
     },
     "metadata": {},
     "output_type": "display_data"
    },
    {
     "data": {
      "text/plain": [
       "0"
      ]
     },
     "metadata": {},
     "output_type": "display_data"
    },
    {
     "data": {
      "text/plain": [
       "42"
      ]
     },
     "metadata": {},
     "output_type": "display_data"
    }
   ],
   "source": []
  },
  {
   "cell_type": "code",
   "execution_count": 99,
   "metadata": {},
   "outputs": [
    {
     "name": "stdout",
     "output_type": "stream",
     "text": [
      "TP: 0 FN: 3 \n",
      "FP: 0 TN: 42\n",
      "Sensitivity: 1.0000\n",
      "Sensitivity: 0.0000\n",
      "Specificity: 1.0000\n"
     ]
    }
   ],
   "source": [
    "tp, fn, fp, tn = cm.ravel()\n",
    "print(f\"TP: {tp} FN: {fn} \\nFP: {fp} TN: {tn}\")\n",
    "\n",
    "sensitivity = recall_score(y_test, y_pred)\n",
    "sensitivity_ = tp / (tp + fn)\n",
    "specificity = tn / (tn + fp)\n",
    "\n",
    "print(f\"Sensitivity: {sensitivity:.4f}\")\n",
    "\n",
    "print(f\"Sensitivity: {sensitivity_:.4f}\")\n",
    "print(f\"Specificity: {specificity:.4f}\")"
   ]
  },
  {
   "cell_type": "markdown",
   "metadata": {},
   "source": [
    "## CNN (Convolution Neural Network) model"
   ]
  },
  {
   "cell_type": "code",
   "execution_count": 127,
   "metadata": {},
   "outputs": [],
   "source": [
    "def simple_cnn(X_train, X_test, y_train, y_test, num_epochs=30):\n",
    "\n",
    "    model = Sequential([\n",
    "        Conv1D(16, 21, input_shape=(X_train.shape[1], 1)),\n",
    "        BatchNormalization(),\n",
    "        LeakyReLU(0.01),\n",
    "        MaxPooling1D(16),\n",
    "        Dropout(0.1),\n",
    "\n",
    "        Conv1D(32, 11),\n",
    "        BatchNormalization(),\n",
    "        LeakyReLU(0.01),\n",
    "        MaxPooling1D(8),\n",
    "        Dropout(0.1),\n",
    "\n",
    "        Conv1D(64, 5),\n",
    "        BatchNormalization(),\n",
    "        LeakyReLU(0.01),\n",
    "        MaxPooling1D(4),\n",
    "        \n",
    "        Flatten(),\n",
    "        BatchNormalization(),\n",
    "\n",
    "        Dense(2048, activation='tanh'),\n",
    "        BatchNormalization(),\n",
    "        Dropout(0.5),\n",
    "\n",
    "        Dense(512, activation='relu'),\n",
    "        BatchNormalization(),\n",
    "        Dropout(0.5),\n",
    "        \n",
    "        Dense(1, activation='sigmoid')\n",
    "    ])\n",
    "\n",
    "    model.compile(optimizer='adam',\n",
    "              loss='binary_crossentropy',\n",
    "              metrics=['accuracy'])\n",
    "    \n",
    "    train_loss = []\n",
    "    train_accuracy = []\n",
    "    test_loss = []\n",
    "    test_accuracy = []\n",
    "    for i in range(num_epochs):\n",
    "        history = model.fit(X_train, y_train, epochs=1, batch_size=8, verbose=0)\n",
    "        \n",
    "        train_loss.append(history.history['loss'][0])\n",
    "        train_accuracy.append(history.history['accuracy'][0])\n",
    "\n",
    "        loss, accuracy = model.evaluate(X_test, y_test, verbose=0)\n",
    "\n",
    "        test_loss.append(loss)\n",
    "        test_accuracy.append(accuracy)\n",
    "        if (i + 1) % 5 == 0:\n",
    "            print(f'Epoch {i+1} => Test Loss: {loss:.2f} - Test Accuracy: {accuracy*100:.2f}%')\n",
    "\n",
    "    plt.figure(figsize=(15, 8))\n",
    "    # plt.plot(train_loss, label='train_loss')\n",
    "    plt.plot(train_accuracy, label='train_accuracy')\n",
    "    # plt.plot(test_loss, label='test_loss')\n",
    "    plt.plot(test_accuracy, label='test_accuracy')\n",
    "    plt.title('Model accuracy')\n",
    "    plt.xlabel('Epoch')\n",
    "    plt.ylabel('Accuracy')\n",
    "    # plt.ylim(0, 1)\n",
    "    plt.legend(loc='upper left')\n",
    "    plt.show()\n",
    "\n",
    "    return model"
   ]
  },
  {
   "cell_type": "code",
   "execution_count": 128,
   "metadata": {},
   "outputs": [
    {
     "name": "stdout",
     "output_type": "stream",
     "text": [
      "Epoch 5 => Test Loss: 0.36 - Test Accuracy: 93.33%\n",
      "Epoch 10 => Test Loss: 0.22 - Test Accuracy: 93.33%\n",
      "Epoch 15 => Test Loss: 0.19 - Test Accuracy: 93.33%\n",
      "Epoch 20 => Test Loss: 0.16 - Test Accuracy: 93.33%\n",
      "Epoch 25 => Test Loss: 0.18 - Test Accuracy: 93.33%\n",
      "Epoch 30 => Test Loss: 0.16 - Test Accuracy: 95.56%\n"
     ]
    },
    {
     "data": {
      "image/png": "[encoded data removed]",
      "text/plain": [
       "<Figure size 1080x576 with 1 Axes>"
      ]
     },
     "metadata": {
      "needs_background": "light"
     },
     "output_type": "display_data"
    }
   ],
   "source": [
    "simple_cnn_model = simple_cnn(X_train, X_test, y_train, y_test)"
   ]
  },
  {
   "cell_type": "code",
   "execution_count": 129,
   "metadata": {},
   "outputs": [
    {
     "name": "stdout",
     "output_type": "stream",
     "text": [
      "2/2 [==============================] - 0s 3ms/step\n"
     ]
    },
    {
     "data": {
      "text/html": [
       "<div>\n",
       "<style scoped>\n",
       "    .dataframe tbody tr th:only-of-type {\n",
       "        vertical-align: middle;\n",
       "    }\n",
       "\n",
       "    .dataframe tbody tr th {\n",
       "        vertical-align: top;\n",
       "    }\n",
       "\n",
       "    .dataframe thead th {\n",
       "        text-align: right;\n",
       "    }\n",
       "</style>\n",
       "<table border=\"1\" class=\"dataframe\">\n",
       "  <thead>\n",
       "    <tr style=\"text-align: right;\">\n",
       "      <th></th>\n",
       "      <th>0</th>\n",
       "      <th>1</th>\n",
       "      <th>2</th>\n",
       "      <th>3</th>\n",
       "      <th>4</th>\n",
       "      <th>5</th>\n",
       "      <th>6</th>\n",
       "      <th>7</th>\n",
       "      <th>8</th>\n",
       "      <th>9</th>\n",
       "      <th>...</th>\n",
       "      <th>35</th>\n",
       "      <th>36</th>\n",
       "      <th>37</th>\n",
       "      <th>38</th>\n",
       "      <th>39</th>\n",
       "      <th>40</th>\n",
       "      <th>41</th>\n",
       "      <th>42</th>\n",
       "      <th>43</th>\n",
       "      <th>44</th>\n",
       "    </tr>\n",
       "  </thead>\n",
       "  <tbody>\n",
       "    <tr>\n",
       "      <th>0</th>\n",
       "      <td>1</td>\n",
       "      <td>1</td>\n",
       "      <td>1</td>\n",
       "      <td>1</td>\n",
       "      <td>1</td>\n",
       "      <td>1</td>\n",
       "      <td>1</td>\n",
       "      <td>1</td>\n",
       "      <td>1</td>\n",
       "      <td>1</td>\n",
       "      <td>...</td>\n",
       "      <td>1</td>\n",
       "      <td>1</td>\n",
       "      <td>1</td>\n",
       "      <td>1</td>\n",
       "      <td>1</td>\n",
       "      <td>1</td>\n",
       "      <td>1</td>\n",
       "      <td>1</td>\n",
       "      <td>0</td>\n",
       "      <td>0</td>\n",
       "    </tr>\n",
       "  </tbody>\n",
       "</table>\n",
       "<p>1 rows × 45 columns</p>\n",
       "</div>"
      ],
      "text/plain": [
       "   0   1   2   3   4   5   6   7   8   9   ...  35  36  37  38  39  40  41  \\\n",
       "0   1   1   1   1   1   1   1   1   1   1  ...   1   1   1   1   1   1   1   \n",
       "\n",
       "   42  43  44  \n",
       "0   1   0   0  \n",
       "\n",
       "[1 rows x 45 columns]"
      ]
     },
     "metadata": {},
     "output_type": "display_data"
    },
    {
     "data": {
      "text/html": [
       "<div>\n",
       "<style scoped>\n",
       "    .dataframe tbody tr th:only-of-type {\n",
       "        vertical-align: middle;\n",
       "    }\n",
       "\n",
       "    .dataframe tbody tr th {\n",
       "        vertical-align: top;\n",
       "    }\n",
       "\n",
       "    .dataframe thead th {\n",
       "        text-align: right;\n",
       "    }\n",
       "</style>\n",
       "<table border=\"1\" class=\"dataframe\">\n",
       "  <thead>\n",
       "    <tr style=\"text-align: right;\">\n",
       "      <th></th>\n",
       "      <th>0</th>\n",
       "      <th>1</th>\n",
       "      <th>2</th>\n",
       "      <th>3</th>\n",
       "      <th>4</th>\n",
       "      <th>5</th>\n",
       "      <th>6</th>\n",
       "      <th>7</th>\n",
       "      <th>8</th>\n",
       "      <th>9</th>\n",
       "      <th>...</th>\n",
       "      <th>35</th>\n",
       "      <th>36</th>\n",
       "      <th>37</th>\n",
       "      <th>38</th>\n",
       "      <th>39</th>\n",
       "      <th>40</th>\n",
       "      <th>41</th>\n",
       "      <th>42</th>\n",
       "      <th>43</th>\n",
       "      <th>44</th>\n",
       "    </tr>\n",
       "  </thead>\n",
       "  <tbody>\n",
       "    <tr>\n",
       "      <th>0</th>\n",
       "      <td>0</td>\n",
       "      <td>0</td>\n",
       "      <td>0</td>\n",
       "      <td>0</td>\n",
       "      <td>0</td>\n",
       "      <td>0</td>\n",
       "      <td>0</td>\n",
       "      <td>0</td>\n",
       "      <td>0</td>\n",
       "      <td>0</td>\n",
       "      <td>...</td>\n",
       "      <td>0</td>\n",
       "      <td>0</td>\n",
       "      <td>0</td>\n",
       "      <td>0</td>\n",
       "      <td>0</td>\n",
       "      <td>0</td>\n",
       "      <td>0</td>\n",
       "      <td>0</td>\n",
       "      <td>0</td>\n",
       "      <td>0</td>\n",
       "    </tr>\n",
       "  </tbody>\n",
       "</table>\n",
       "<p>1 rows × 45 columns</p>\n",
       "</div>"
      ],
      "text/plain": [
       "   0   1   2   3   4   5   6   7   8   9   ...  35  36  37  38  39  40  41  \\\n",
       "0   0   0   0   0   0   0   0   0   0   0  ...   0   0   0   0   0   0   0   \n",
       "\n",
       "   42  43  44  \n",
       "0   0   0   0  \n",
       "\n",
       "[1 rows x 45 columns]"
      ]
     },
     "metadata": {},
     "output_type": "display_data"
    },
    {
     "data": {
      "image/png": "[encoded data removed]",
      "text/plain": [
       "<Figure size 720x432 with 2 Axes>"
      ]
     },
     "metadata": {
      "needs_background": "light"
     },
     "output_type": "display_data"
    }
   ],
   "source": [
    "y_pred = simple_cnn_model.predict(X_test)\n",
    "y_pred = y_pred.astype(int).reshape(-1)\n",
    "display(pd.DataFrame(y_test).T, pd.DataFrame(y_pred).T)\n",
    "\n",
    "cm = confusion_matrix(y_test, y_pred)\n",
    "\n",
    "fig, ax = plt.subplots(figsize=(10, 6)) \n",
    "sns.heatmap(cm, \n",
    "            ax=ax,\n",
    "            annot=True,\n",
    "            cmap=\"flare\",\n",
    "            linewidth=.5,\n",
    "            fmt='g', \n",
    "            xticklabels=['Эрүүл','Ковидтой'],\n",
    "            yticklabels=['Эрүүл','Ковидтой'])\n",
    "plt.xlabel('Таамагласан',fontsize=13)\n",
    "plt.ylabel('Бодит',fontsize=13)\n",
    "plt.title('Confusion Matrix',fontsize=17)\n",
    "plt.show()"
   ]
  },
  {
   "cell_type": "code",
   "execution_count": 126,
   "metadata": {},
   "outputs": [
    {
     "name": "stdout",
     "output_type": "stream",
     "text": [
      "TP: 3 FN: 0 \n",
      "FP: 42 TN: 0\n",
      "Sensitivity: 0.0000\n",
      "Sensitivity: 1.0000\n",
      "Specificity: 0.0000\n"
     ]
    }
   ],
   "source": [
    "tp, fn, fp, tn = cm.ravel()\n",
    "print(f\"TP: {tp} FN: {fn} \\nFP: {fp} TN: {tn}\")\n",
    "\n",
    "sensitivity = recall_score(y_test, y_pred)\n",
    "sensitivity_ = tp / (tp + fn)\n",
    "specificity = tn / (tn + fp)\n",
    "\n",
    "print(f\"Sensitivity: {sensitivity:.4f}\")\n",
    "\n",
    "print(f\"Sensitivity: {sensitivity_:.4f}\")\n",
    "print(f\"Specificity: {specificity:.4f}\")"
   ]
  },
  {
   "cell_type": "markdown",
   "metadata": {},
   "source": []
  },
  {
   "cell_type": "markdown",
   "metadata": {},
   "source": [
    "## SVM (Support Vector Machine) model"
   ]
  },
  {
   "cell_type": "code",
   "execution_count": null,
   "metadata": {},
   "outputs": [],
   "source": []
  },
  {
   "cell_type": "markdown",
   "metadata": {},
   "source": [
    "## Report"
   ]
  },
  {
   "cell_type": "code",
   "execution_count": null,
   "metadata": {},
   "outputs": [],
   "source": []
  }
 ],
 "metadata": {
  "kernelspec": {
   "display_name": "Python 3",
   "language": "python",
   "name": "python3"
  },
  "language_info": {
   "codemirror_mode": {
    "name": "ipython",
    "version": 3
   },
   "file_extension": ".py",
   "mimetype": "text/x-python",
   "name": "python",
   "nbconvert_exporter": "python",
   "pygments_lexer": "ipython3",
   "version": "3.10.4"
  }
 },
 "nbformat": 4,
 "nbformat_minor": 2
}
