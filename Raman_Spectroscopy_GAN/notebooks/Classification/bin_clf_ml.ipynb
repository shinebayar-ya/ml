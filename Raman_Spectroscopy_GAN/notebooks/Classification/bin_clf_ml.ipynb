{
 "cells": [
  {
   "cell_type": "code",
   "execution_count": 2,
   "metadata": {},
   "outputs": [],
   "source": [
    "import numpy as np\n",
    "import pandas as pd\n",
    "import seaborn as sns\n",
    "from sklearn.model_selection import train_test_split\n",
    "from sklearn.preprocessing import StandardScaler, LabelEncoder\n",
    "from sklearn.svm import SVC\n",
    "from sklearn.neighbors import KNeighborsClassifier\n",
    "from sklearn.linear_model import LogisticRegression\n",
    "from sklearn.ensemble import RandomForestClassifier\n",
    "from sklearn.metrics import accuracy_score, classification_report, confusion_matrix\n",
    "import matplotlib.pyplot as plt"
   ]
  },
  {
   "cell_type": "code",
   "execution_count": 3,
   "metadata": {},
   "outputs": [],
   "source": [
    "dataset = pd.read_csv(\"../../input/augmented_data/spectrum.csv\", low_memory=False)"
   ]
  },
  {
   "cell_type": "code",
   "execution_count": 4,
   "metadata": {},
   "outputs": [
    {
     "data": {
      "text/html": [
       "<div>\n",
       "<style scoped>\n",
       "    .dataframe tbody tr th:only-of-type {\n",
       "        vertical-align: middle;\n",
       "    }\n",
       "\n",
       "    .dataframe tbody tr th {\n",
       "        vertical-align: top;\n",
       "    }\n",
       "\n",
       "    .dataframe thead th {\n",
       "        text-align: right;\n",
       "    }\n",
       "</style>\n",
       "<table border=\"1\" class=\"dataframe\">\n",
       "  <thead>\n",
       "    <tr style=\"text-align: right;\">\n",
       "      <th></th>\n",
       "      <th>0</th>\n",
       "      <th>1</th>\n",
       "      <th>2</th>\n",
       "      <th>3</th>\n",
       "      <th>4</th>\n",
       "    </tr>\n",
       "  </thead>\n",
       "  <tbody>\n",
       "    <tr>\n",
       "      <th>320</th>\n",
       "      <td>23.767617</td>\n",
       "      <td>6.554332</td>\n",
       "      <td>-65.876227</td>\n",
       "      <td>-3.539452</td>\n",
       "      <td>-32.211329</td>\n",
       "    </tr>\n",
       "    <tr>\n",
       "      <th>321</th>\n",
       "      <td>8.541673</td>\n",
       "      <td>-3.982771</td>\n",
       "      <td>-52.107447</td>\n",
       "      <td>-25.36141</td>\n",
       "      <td>3.569451</td>\n",
       "    </tr>\n",
       "    <tr>\n",
       "      <th>322</th>\n",
       "      <td>-6.737708</td>\n",
       "      <td>-12.508809</td>\n",
       "      <td>-43.797257</td>\n",
       "      <td>-22.890028</td>\n",
       "      <td>-25.360113</td>\n",
       "    </tr>\n",
       "    <tr>\n",
       "      <th>323</th>\n",
       "      <td>-13.844851</td>\n",
       "      <td>-14.161707</td>\n",
       "      <td>-34.973131</td>\n",
       "      <td>-15.633461</td>\n",
       "      <td>-24.382165</td>\n",
       "    </tr>\n",
       "    <tr>\n",
       "      <th>324</th>\n",
       "      <td>-15.338898</td>\n",
       "      <td>-11.528857</td>\n",
       "      <td>-24.758405</td>\n",
       "      <td>-24.196508</td>\n",
       "      <td>-13.837212</td>\n",
       "    </tr>\n",
       "    <tr>\n",
       "      <th>...</th>\n",
       "      <td>...</td>\n",
       "      <td>...</td>\n",
       "      <td>...</td>\n",
       "      <td>...</td>\n",
       "      <td>...</td>\n",
       "    </tr>\n",
       "    <tr>\n",
       "      <th>classfication</th>\n",
       "      <td>0</td>\n",
       "      <td>0</td>\n",
       "      <td>0</td>\n",
       "      <td>0</td>\n",
       "      <td>0</td>\n",
       "    </tr>\n",
       "    <tr>\n",
       "      <th>negpos</th>\n",
       "      <td>0</td>\n",
       "      <td>0</td>\n",
       "      <td>0</td>\n",
       "      <td>0</td>\n",
       "      <td>0</td>\n",
       "    </tr>\n",
       "    <tr>\n",
       "      <th>medium</th>\n",
       "      <td>NaN</td>\n",
       "      <td>NaN</td>\n",
       "      <td>NaN</td>\n",
       "      <td>NaN</td>\n",
       "      <td>NaN</td>\n",
       "    </tr>\n",
       "    <tr>\n",
       "      <th>mediumclassification</th>\n",
       "      <td>NaN</td>\n",
       "      <td>NaN</td>\n",
       "      <td>NaN</td>\n",
       "      <td>NaN</td>\n",
       "      <td>NaN</td>\n",
       "    </tr>\n",
       "    <tr>\n",
       "      <th>covid_status</th>\n",
       "      <td>negative</td>\n",
       "      <td>negative</td>\n",
       "      <td>negative</td>\n",
       "      <td>negative</td>\n",
       "      <td>negative</td>\n",
       "    </tr>\n",
       "  </tbody>\n",
       "</table>\n",
       "<p>1338 rows × 5 columns</p>\n",
       "</div>"
      ],
      "text/plain": [
       "                              0          1          2          3          4\n",
       "320                   23.767617   6.554332 -65.876227  -3.539452 -32.211329\n",
       "321                    8.541673  -3.982771 -52.107447  -25.36141   3.569451\n",
       "322                   -6.737708 -12.508809 -43.797257 -22.890028 -25.360113\n",
       "323                  -13.844851 -14.161707 -34.973131 -15.633461 -24.382165\n",
       "324                  -15.338898 -11.528857 -24.758405 -24.196508 -13.837212\n",
       "...                         ...        ...        ...        ...        ...\n",
       "classfication                 0          0          0          0          0\n",
       "negpos                        0          0          0          0          0\n",
       "medium                      NaN        NaN        NaN        NaN        NaN\n",
       "mediumclassification        NaN        NaN        NaN        NaN        NaN\n",
       "covid_status           negative   negative   negative   negative   negative\n",
       "\n",
       "[1338 rows x 5 columns]"
      ]
     },
     "metadata": {},
     "output_type": "display_data"
    },
    {
     "data": {
      "text/plain": [
       "(6400, 1338)"
      ]
     },
     "metadata": {},
     "output_type": "display_data"
    }
   ],
   "source": [
    "display(dataset.head().T, dataset.shape)"
   ]
  },
  {
   "cell_type": "code",
   "execution_count": 5,
   "metadata": {},
   "outputs": [],
   "source": [
    "def preprocess_data(data):\n",
    "    labels = data.columns[-7:]\n",
    "    X = data.drop(labels, axis=1)\n",
    "    X.columns = X.columns.astype(int)\n",
    "    y = data['covid_status']\n",
    "\n",
    "    X_train, X_test, y_train, y_test = train_test_split(X, y, stratify=y, test_size=0.25, random_state=42)\n",
    "\n",
    "    # scaler = StandardScaler()\n",
    "    # X_train_scaled = scaler.fit_transform(X_train)\n",
    "    # X_test_scaled = scaler.transform(X_test)\n",
    "  \n",
    "    label_encoder = LabelEncoder()\n",
    "    y_train_encoded = label_encoder.fit_transform(y_train)\n",
    "    y_test_encoded = label_encoder.transform(y_test)\n",
    "\n",
    "    return X_train, X_test, y_train_encoded, y_test_encoded"
   ]
  },
  {
   "cell_type": "code",
   "execution_count": 6,
   "metadata": {},
   "outputs": [],
   "source": [
    "X_train, X_test, y_train, y_test = preprocess_data(dataset)"
   ]
  },
  {
   "cell_type": "code",
   "execution_count": 7,
   "metadata": {},
   "outputs": [
    {
     "data": {
      "text/plain": [
       "((4800,), (1600,))"
      ]
     },
     "execution_count": 7,
     "metadata": {},
     "output_type": "execute_result"
    }
   ],
   "source": [
    "y_train.shape, y_test.shape"
   ]
  },
  {
   "cell_type": "code",
   "execution_count": 8,
   "metadata": {},
   "outputs": [],
   "source": [
    "# Support Vector Machine (SVM)\n",
    "svm_model = SVC(kernel='linear', C=1.0)\n",
    "svm_model.fit(X_train, y_train)\n",
    "svm_predictions = svm_model.predict(X_test)"
   ]
  },
  {
   "cell_type": "code",
   "execution_count": 9,
   "metadata": {},
   "outputs": [],
   "source": [
    "# K-Nearest Neighbors (KNN)\n",
    "knn_model = KNeighborsClassifier(n_neighbors=2)\n",
    "knn_model.fit(X_train, y_train)\n",
    "knn_predictions = knn_model.predict(X_test)"
   ]
  },
  {
   "cell_type": "code",
   "execution_count": 10,
   "metadata": {},
   "outputs": [],
   "source": [
    "# Logistic Regression\n",
    "logistic_model = LogisticRegression(max_iter=1000)\n",
    "logistic_model.fit(X_train, y_train)\n",
    "logistic_predictions = logistic_model.predict(X_test)"
   ]
  },
  {
   "cell_type": "code",
   "execution_count": 11,
   "metadata": {},
   "outputs": [],
   "source": [
    "# Random Forest\n",
    "rf_model = RandomForestClassifier(n_estimators=100, random_state=42)\n",
    "rf_model.fit(X_train, y_train)\n",
    "rf_predictions = rf_model.predict(X_test)"
   ]
  },
  {
   "cell_type": "code",
   "execution_count": 12,
   "metadata": {},
   "outputs": [
    {
     "name": "stdout",
     "output_type": "stream",
     "text": [
      "\n",
      "SVM Model:\n",
      "Accuracy: 100.00%\n",
      "Classification Report:\n",
      "               precision    recall  f1-score   support\n",
      "\n",
      "           0       1.00      1.00      1.00       325\n",
      "           1       1.00      1.00      1.00      1275\n",
      "\n",
      "    accuracy                           1.00      1600\n",
      "   macro avg       1.00      1.00      1.00      1600\n",
      "weighted avg       1.00      1.00      1.00      1600\n",
      "\n",
      "Confusion Matrix:\n",
      " [[ 325    0]\n",
      " [   0 1275]]\n"
     ]
    },
    {
     "data": {
      "image/png": "[encoded data removed]",
      "text/plain": [
       "<Figure size 576x288 with 2 Axes>"
      ]
     },
     "metadata": {
      "needs_background": "light"
     },
     "output_type": "display_data"
    },
    {
     "name": "stdout",
     "output_type": "stream",
     "text": [
      "\n",
      "KNN Model:\n",
      "Accuracy: 100.00%\n",
      "Classification Report:\n",
      "               precision    recall  f1-score   support\n",
      "\n",
      "           0       1.00      1.00      1.00       325\n",
      "           1       1.00      1.00      1.00      1275\n",
      "\n",
      "    accuracy                           1.00      1600\n",
      "   macro avg       1.00      1.00      1.00      1600\n",
      "weighted avg       1.00      1.00      1.00      1600\n",
      "\n",
      "Confusion Matrix:\n",
      " [[ 325    0]\n",
      " [   0 1275]]\n"
     ]
    },
    {
     "data": {
      "image/png": "[encoded data removed]",
      "text/plain": [
       "<Figure size 576x288 with 2 Axes>"
      ]
     },
     "metadata": {
      "needs_background": "light"
     },
     "output_type": "display_data"
    },
    {
     "name": "stdout",
     "output_type": "stream",
     "text": [
      "\n",
      "Logistic Regression Model:\n",
      "Accuracy: 100.00%\n",
      "Classification Report:\n",
      "               precision    recall  f1-score   support\n",
      "\n",
      "           0       1.00      1.00      1.00       325\n",
      "           1       1.00      1.00      1.00      1275\n",
      "\n",
      "    accuracy                           1.00      1600\n",
      "   macro avg       1.00      1.00      1.00      1600\n",
      "weighted avg       1.00      1.00      1.00      1600\n",
      "\n",
      "Confusion Matrix:\n",
      " [[ 325    0]\n",
      " [   0 1275]]\n"
     ]
    },
    {
     "data": {
      "image/png": "[encoded data removed]",
      "text/plain": [
       "<Figure size 576x288 with 2 Axes>"
      ]
     },
     "metadata": {
      "needs_background": "light"
     },
     "output_type": "display_data"
    },
    {
     "name": "stdout",
     "output_type": "stream",
     "text": [
      "\n",
      "Random Forest Model:\n",
      "Accuracy: 100.00%\n",
      "Classification Report:\n",
      "               precision    recall  f1-score   support\n",
      "\n",
      "           0       1.00      1.00      1.00       325\n",
      "           1       1.00      1.00      1.00      1275\n",
      "\n",
      "    accuracy                           1.00      1600\n",
      "   macro avg       1.00      1.00      1.00      1600\n",
      "weighted avg       1.00      1.00      1.00      1600\n",
      "\n",
      "Confusion Matrix:\n",
      " [[ 325    0]\n",
      " [   0 1275]]\n"
     ]
    },
    {
     "data": {
      "image/png": "[encoded data removed]",
      "text/plain": [
       "<Figure size 576x288 with 2 Axes>"
      ]
     },
     "metadata": {
      "needs_background": "light"
     },
     "output_type": "display_data"
    }
   ],
   "source": [
    "# Evaluate models\n",
    "models = ['SVM', 'KNN', 'Logistic Regression', 'Random Forest']\n",
    "predictions = [svm_predictions, knn_predictions, logistic_predictions, rf_predictions]\n",
    "\n",
    "for i, model in enumerate(models):\n",
    "    accuracy = accuracy_score(y_test, predictions[i])\n",
    "    report = classification_report(y_test, predictions[i])\n",
    "    cm = confusion_matrix(y_test, predictions[i])\n",
    "\n",
    "    print(f\"\\n{model} Model:\")\n",
    "    print(f\"Accuracy: {100*accuracy:.2f}%\")\n",
    "    print(\"Classification Report:\\n\", report)\n",
    "    print(\"Confusion Matrix:\\n\", cm)\n",
    "\n",
    "    fig, ax = plt.subplots(figsize=(8, 4)) \n",
    "    sns.heatmap(cm, \n",
    "                ax=ax,\n",
    "                annot=True,\n",
    "                cmap=\"flare\",\n",
    "                linewidth=.5,\n",
    "                fmt='g', \n",
    "                xticklabels=['Эрүүл','Ковидтой'],\n",
    "                yticklabels=['Эрүүл','Ковидтой'])\n",
    "    plt.xlabel('Таамагласан',fontsize=13)\n",
    "    plt.ylabel('Бодит',fontsize=13)\n",
    "    plt.title('Confusion Matrix',fontsize=17)\n",
    "    plt.show()"
   ]
  },
  {
   "cell_type": "code",
   "execution_count": 13,
   "metadata": {},
   "outputs": [],
   "source": [
    "test_ds = pd.read_csv('../../input/clinical_sample/spectrum.csv')"
   ]
  },
  {
   "cell_type": "code",
   "execution_count": 14,
   "metadata": {},
   "outputs": [
    {
     "data": {
      "text/plain": [
       "(35, 1333)"
      ]
     },
     "execution_count": 14,
     "metadata": {},
     "output_type": "execute_result"
    }
   ],
   "source": [
    "test_ds.shape"
   ]
  },
  {
   "cell_type": "code",
   "execution_count": 15,
   "metadata": {},
   "outputs": [
    {
     "data": {
      "text/html": [
       "<div>\n",
       "<style scoped>\n",
       "    .dataframe tbody tr th:only-of-type {\n",
       "        vertical-align: middle;\n",
       "    }\n",
       "\n",
       "    .dataframe tbody tr th {\n",
       "        vertical-align: top;\n",
       "    }\n",
       "\n",
       "    .dataframe thead th {\n",
       "        text-align: right;\n",
       "    }\n",
       "</style>\n",
       "<table border=\"1\" class=\"dataframe\">\n",
       "  <thead>\n",
       "    <tr style=\"text-align: right;\">\n",
       "      <th></th>\n",
       "      <th>0</th>\n",
       "      <th>1</th>\n",
       "      <th>2</th>\n",
       "      <th>3</th>\n",
       "      <th>4</th>\n",
       "    </tr>\n",
       "  </thead>\n",
       "  <tbody>\n",
       "    <tr>\n",
       "      <th>320</th>\n",
       "      <td>25.2983</td>\n",
       "      <td>20.30437</td>\n",
       "      <td>16.893959</td>\n",
       "      <td>-36.049651</td>\n",
       "      <td>-11.886235</td>\n",
       "    </tr>\n",
       "    <tr>\n",
       "      <th>321</th>\n",
       "      <td>31.479134</td>\n",
       "      <td>-3.791936</td>\n",
       "      <td>16.638892</td>\n",
       "      <td>-19.645126</td>\n",
       "      <td>-12.665922</td>\n",
       "    </tr>\n",
       "    <tr>\n",
       "      <th>322</th>\n",
       "      <td>35.972784</td>\n",
       "      <td>-22.084277</td>\n",
       "      <td>16.978177</td>\n",
       "      <td>-2.667237</td>\n",
       "      <td>-11.410453</td>\n",
       "    </tr>\n",
       "    <tr>\n",
       "      <th>323</th>\n",
       "      <td>42.426246</td>\n",
       "      <td>-23.550407</td>\n",
       "      <td>22.367232</td>\n",
       "      <td>9.265691</td>\n",
       "      <td>4.168963</td>\n",
       "    </tr>\n",
       "    <tr>\n",
       "      <th>324</th>\n",
       "      <td>50.000132</td>\n",
       "      <td>-10.324397</td>\n",
       "      <td>30.121312</td>\n",
       "      <td>16.180717</td>\n",
       "      <td>29.627829</td>\n",
       "    </tr>\n",
       "    <tr>\n",
       "      <th>...</th>\n",
       "      <td>...</td>\n",
       "      <td>...</td>\n",
       "      <td>...</td>\n",
       "      <td>...</td>\n",
       "      <td>...</td>\n",
       "    </tr>\n",
       "    <tr>\n",
       "      <th>1648</th>\n",
       "      <td>5.494818</td>\n",
       "      <td>1.140878</td>\n",
       "      <td>1.415732</td>\n",
       "      <td>-4.302907</td>\n",
       "      <td>-20.411472</td>\n",
       "    </tr>\n",
       "    <tr>\n",
       "      <th>1649</th>\n",
       "      <td>-5.673703</td>\n",
       "      <td>7.089428</td>\n",
       "      <td>2.36151</td>\n",
       "      <td>1.27773</td>\n",
       "      <td>-26.535186</td>\n",
       "    </tr>\n",
       "    <tr>\n",
       "      <th>1650</th>\n",
       "      <td>-11.573432</td>\n",
       "      <td>9.249651</td>\n",
       "      <td>-11.636861</td>\n",
       "      <td>-8.427642</td>\n",
       "      <td>-27.951783</td>\n",
       "    </tr>\n",
       "    <tr>\n",
       "      <th>covid_status</th>\n",
       "      <td>positive</td>\n",
       "      <td>positive</td>\n",
       "      <td>positive</td>\n",
       "      <td>positive</td>\n",
       "      <td>positive</td>\n",
       "    </tr>\n",
       "    <tr>\n",
       "      <th>description</th>\n",
       "      <td>s1_1</td>\n",
       "      <td>s1_2</td>\n",
       "      <td>s1_3</td>\n",
       "      <td>s10_1</td>\n",
       "      <td>s10_2</td>\n",
       "    </tr>\n",
       "  </tbody>\n",
       "</table>\n",
       "<p>1333 rows × 5 columns</p>\n",
       "</div>"
      ],
      "text/plain": [
       "                      0          1          2          3          4\n",
       "320             25.2983   20.30437  16.893959 -36.049651 -11.886235\n",
       "321           31.479134  -3.791936  16.638892 -19.645126 -12.665922\n",
       "322           35.972784 -22.084277  16.978177  -2.667237 -11.410453\n",
       "323           42.426246 -23.550407  22.367232   9.265691   4.168963\n",
       "324           50.000132 -10.324397  30.121312  16.180717  29.627829\n",
       "...                 ...        ...        ...        ...        ...\n",
       "1648           5.494818   1.140878   1.415732  -4.302907 -20.411472\n",
       "1649          -5.673703   7.089428    2.36151    1.27773 -26.535186\n",
       "1650         -11.573432   9.249651 -11.636861  -8.427642 -27.951783\n",
       "covid_status   positive   positive   positive   positive   positive\n",
       "description        s1_1       s1_2       s1_3      s10_1      s10_2\n",
       "\n",
       "[1333 rows x 5 columns]"
      ]
     },
     "metadata": {},
     "output_type": "display_data"
    }
   ],
   "source": [
    "display(test_ds.head().T)"
   ]
  },
  {
   "cell_type": "code",
   "execution_count": 49,
   "metadata": {},
   "outputs": [],
   "source": [
    "_X_test = test_ds.drop(['covid_status', 'description'], axis=1)\n",
    "_X_test.columns = _X_test.columns.astype(int)\n",
    "_y_test = np.ones(_X_test.shape[0]).astype(int)"
   ]
  },
  {
   "cell_type": "code",
   "execution_count": 54,
   "metadata": {},
   "outputs": [
    {
     "name": "stdout",
     "output_type": "stream",
     "text": [
      "\n",
      "Random Forest Model:\n",
      "Accuracy: 82.86%\n",
      "Confusion Matrix:\n",
      " [[ 0  0]\n",
      " [ 6 29]]\n"
     ]
    },
    {
     "data": {
      "image/png": "[encoded data removed]",
      "text/plain": [
       "<Figure size 576x288 with 2 Axes>"
      ]
     },
     "metadata": {
      "needs_background": "light"
     },
     "output_type": "display_data"
    }
   ],
   "source": [
    "_y_pred = svm_model.predict(_X_test)\n",
    "accuracy = accuracy_score(_y_test, _y_pred)\n",
    "# report = classification_report(_y_test, _y_pred)\n",
    "cm = confusion_matrix(_y_test, _y_pred)\n",
    "\n",
    "print(f\"\\n{model} Model:\")\n",
    "print(f\"Accuracy: {100*accuracy:.2f}%\")\n",
    "# print(\"Classification Report:\\n\", report)\n",
    "print(\"Confusion Matrix:\\n\", cm)\n",
    "\n",
    "fig, ax = plt.subplots(figsize=(8, 4)) \n",
    "sns.heatmap(cm, \n",
    "            ax=ax,\n",
    "            annot=True,\n",
    "            cmap=\"flare\",\n",
    "            linewidth=.5,\n",
    "            fmt='g', \n",
    "            xticklabels=['Эрүүл','Ковидтой'],\n",
    "            yticklabels=['Эрүүл','Ковидтой'])\n",
    "plt.xlabel('Таамагласан',fontsize=13)\n",
    "plt.ylabel('Бодит',fontsize=13)\n",
    "plt.title('Confusion Matrix',fontsize=17)\n",
    "plt.show()"
   ]
  }
 ],
 "metadata": {
  "kernelspec": {
   "display_name": "Python 3",
   "language": "python",
   "name": "python3"
  },
  "language_info": {
   "codemirror_mode": {
    "name": "ipython",
    "version": 3
   },
   "file_extension": ".py",
   "mimetype": "text/x-python",
   "name": "python",
   "nbconvert_exporter": "python",
   "pygments_lexer": "ipython3",
   "version": "3.10.4"
  }
 },
 "nbformat": 4,
 "nbformat_minor": 2
}
