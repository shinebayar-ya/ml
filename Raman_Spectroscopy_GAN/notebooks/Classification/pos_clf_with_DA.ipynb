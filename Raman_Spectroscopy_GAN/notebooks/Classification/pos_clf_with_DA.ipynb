{
 "cells": [
  {
   "cell_type": "markdown",
   "metadata": {},
   "source": [
    "# Ковидын эерэг болон сөрөг 2 ангилалын загвар"
   ]
  },
  {
   "cell_type": "markdown",
   "metadata": {},
   "source": [
    "## Сангуудаа импортлох"
   ]
  },
  {
   "cell_type": "code",
   "execution_count": 1,
   "metadata": {},
   "outputs": [],
   "source": [
    "import numpy as np\n",
    "import pandas as pd \n",
    "import matplotlib.pyplot as plt\n",
    "import seaborn as sns\n",
    "import itertools\n",
    "from sklearn.model_selection import train_test_split\n",
    "from sklearn.preprocessing import StandardScaler, LabelEncoder, OneHotEncoder\n",
    "from sklearn.metrics import precision_score, recall_score, f1_score, confusion_matrix\n",
    "from keras import layers, models\n",
    "from keras.optimizers import Adam\n",
    "from keras.models import Sequential\n",
    "from keras.layers import Dense, Conv1D, Flatten, LeakyReLU, BatchNormalization, MaxPooling1D, Dropout\n",
    "from keras.utils import to_categorical"
   ]
  },
  {
   "cell_type": "markdown",
   "metadata": {},
   "source": [
    "## Өгөгдлөө унших"
   ]
  },
  {
   "cell_type": "code",
   "execution_count": 16,
   "metadata": {},
   "outputs": [],
   "source": [
    "dataset = pd.read_csv('../../input/augmented_data/spectrum.csv', low_memory=False)"
   ]
  },
  {
   "cell_type": "code",
   "execution_count": 17,
   "metadata": {},
   "outputs": [
    {
     "data": {
      "text/html": [
       "<div>\n",
       "<style scoped>\n",
       "    .dataframe tbody tr th:only-of-type {\n",
       "        vertical-align: middle;\n",
       "    }\n",
       "\n",
       "    .dataframe tbody tr th {\n",
       "        vertical-align: top;\n",
       "    }\n",
       "\n",
       "    .dataframe thead th {\n",
       "        text-align: right;\n",
       "    }\n",
       "</style>\n",
       "<table border=\"1\" class=\"dataframe\">\n",
       "  <thead>\n",
       "    <tr style=\"text-align: right;\">\n",
       "      <th></th>\n",
       "      <th>0</th>\n",
       "      <th>1</th>\n",
       "      <th>2</th>\n",
       "      <th>3</th>\n",
       "      <th>4</th>\n",
       "    </tr>\n",
       "  </thead>\n",
       "  <tbody>\n",
       "    <tr>\n",
       "      <th>320</th>\n",
       "      <td>23.767617</td>\n",
       "      <td>6.554332</td>\n",
       "      <td>-65.876227</td>\n",
       "      <td>-3.539452</td>\n",
       "      <td>-32.211329</td>\n",
       "    </tr>\n",
       "    <tr>\n",
       "      <th>321</th>\n",
       "      <td>8.541673</td>\n",
       "      <td>-3.982771</td>\n",
       "      <td>-52.107447</td>\n",
       "      <td>-25.36141</td>\n",
       "      <td>3.569451</td>\n",
       "    </tr>\n",
       "    <tr>\n",
       "      <th>322</th>\n",
       "      <td>-6.737708</td>\n",
       "      <td>-12.508809</td>\n",
       "      <td>-43.797257</td>\n",
       "      <td>-22.890028</td>\n",
       "      <td>-25.360113</td>\n",
       "    </tr>\n",
       "    <tr>\n",
       "      <th>323</th>\n",
       "      <td>-13.844851</td>\n",
       "      <td>-14.161707</td>\n",
       "      <td>-34.973131</td>\n",
       "      <td>-15.633461</td>\n",
       "      <td>-24.382165</td>\n",
       "    </tr>\n",
       "    <tr>\n",
       "      <th>324</th>\n",
       "      <td>-15.338898</td>\n",
       "      <td>-11.528857</td>\n",
       "      <td>-24.758405</td>\n",
       "      <td>-24.196508</td>\n",
       "      <td>-13.837212</td>\n",
       "    </tr>\n",
       "    <tr>\n",
       "      <th>...</th>\n",
       "      <td>...</td>\n",
       "      <td>...</td>\n",
       "      <td>...</td>\n",
       "      <td>...</td>\n",
       "      <td>...</td>\n",
       "    </tr>\n",
       "    <tr>\n",
       "      <th>classfication</th>\n",
       "      <td>0</td>\n",
       "      <td>0</td>\n",
       "      <td>0</td>\n",
       "      <td>0</td>\n",
       "      <td>0</td>\n",
       "    </tr>\n",
       "    <tr>\n",
       "      <th>negpos</th>\n",
       "      <td>0</td>\n",
       "      <td>0</td>\n",
       "      <td>0</td>\n",
       "      <td>0</td>\n",
       "      <td>0</td>\n",
       "    </tr>\n",
       "    <tr>\n",
       "      <th>medium</th>\n",
       "      <td>NaN</td>\n",
       "      <td>NaN</td>\n",
       "      <td>NaN</td>\n",
       "      <td>NaN</td>\n",
       "      <td>NaN</td>\n",
       "    </tr>\n",
       "    <tr>\n",
       "      <th>mediumclassification</th>\n",
       "      <td>NaN</td>\n",
       "      <td>NaN</td>\n",
       "      <td>NaN</td>\n",
       "      <td>NaN</td>\n",
       "      <td>NaN</td>\n",
       "    </tr>\n",
       "    <tr>\n",
       "      <th>covid_status</th>\n",
       "      <td>negative</td>\n",
       "      <td>negative</td>\n",
       "      <td>negative</td>\n",
       "      <td>negative</td>\n",
       "      <td>negative</td>\n",
       "    </tr>\n",
       "  </tbody>\n",
       "</table>\n",
       "<p>1338 rows × 5 columns</p>\n",
       "</div>"
      ],
      "text/plain": [
       "                              0          1          2          3          4\n",
       "320                   23.767617   6.554332 -65.876227  -3.539452 -32.211329\n",
       "321                    8.541673  -3.982771 -52.107447  -25.36141   3.569451\n",
       "322                   -6.737708 -12.508809 -43.797257 -22.890028 -25.360113\n",
       "323                  -13.844851 -14.161707 -34.973131 -15.633461 -24.382165\n",
       "324                  -15.338898 -11.528857 -24.758405 -24.196508 -13.837212\n",
       "...                         ...        ...        ...        ...        ...\n",
       "classfication                 0          0          0          0          0\n",
       "negpos                        0          0          0          0          0\n",
       "medium                      NaN        NaN        NaN        NaN        NaN\n",
       "mediumclassification        NaN        NaN        NaN        NaN        NaN\n",
       "covid_status           negative   negative   negative   negative   negative\n",
       "\n",
       "[1338 rows x 5 columns]"
      ]
     },
     "metadata": {},
     "output_type": "display_data"
    },
    {
     "data": {
      "text/plain": [
       "(6400, 1338)"
      ]
     },
     "metadata": {},
     "output_type": "display_data"
    }
   ],
   "source": [
    "display(dataset.head().T, dataset.shape)"
   ]
  },
  {
   "cell_type": "markdown",
   "metadata": {},
   "source": [
    "## Өгөгдлөө бэлдэх"
   ]
  },
  {
   "cell_type": "code",
   "execution_count": 18,
   "metadata": {},
   "outputs": [],
   "source": [
    "def preprocess_data(dataset):\n",
    "    labels = dataset.columns[-7:]\n",
    "    dataset = dataset[dataset['covid_status'] == 'positive']\n",
    "    X = dataset.drop(labels, axis=1)\n",
    "    X.columns = X.columns.astype(int)\n",
    "    y = dataset['classfication']\n",
    "\n",
    "    label_encoder = LabelEncoder()\n",
    "    y = label_encoder.fit_transform(y)\n",
    "    y = to_categorical(y, num_classes=3)\n",
    "\n",
    "    X_train, X_test, y_train, y_test = train_test_split(X, y, stratify=y, test_size=0.25, random_state=42)\n",
    "\n",
    "    return X_train, X_test, y_train, y_test"
   ]
  },
  {
   "cell_type": "code",
   "execution_count": 19,
   "metadata": {},
   "outputs": [],
   "source": [
    "X_train, X_test, y_train, y_test = preprocess_data(dataset)"
   ]
  },
  {
   "cell_type": "code",
   "execution_count": 20,
   "metadata": {},
   "outputs": [
    {
     "data": {
      "text/plain": [
       "((3825, 3), (1275, 3))"
      ]
     },
     "execution_count": 20,
     "metadata": {},
     "output_type": "execute_result"
    }
   ],
   "source": [
    "y_train.shape, y_test.shape"
   ]
  },
  {
   "cell_type": "code",
   "execution_count": 21,
   "metadata": {},
   "outputs": [],
   "source": [
    "NUM_EPOCHS = 50"
   ]
  },
  {
   "cell_type": "code",
   "execution_count": 28,
   "metadata": {},
   "outputs": [],
   "source": [
    "def simple_cnn(X_train, X_test, y_train, y_test, num_epochs=NUM_EPOCHS):\n",
    "\n",
    "    model = Sequential([\n",
    "        Conv1D(16, 21, input_shape=(X_train.shape[1], 1)),\n",
    "        BatchNormalization(),\n",
    "        LeakyReLU(0.01),\n",
    "        MaxPooling1D(16),\n",
    "\n",
    "        Conv1D(32, 11),\n",
    "        BatchNormalization(),\n",
    "        LeakyReLU(0.01),\n",
    "        MaxPooling1D(8),\n",
    "\n",
    "        Conv1D(64, 5),\n",
    "        BatchNormalization(),\n",
    "        LeakyReLU(0.01),\n",
    "        MaxPooling1D(4),\n",
    "        \n",
    "        Flatten(),\n",
    "        BatchNormalization(),\n",
    "\n",
    "        Dense(2048, activation='tanh'),\n",
    "        BatchNormalization(),\n",
    "        Dropout(0.5),\n",
    "        \n",
    "        Dense(3, activation='softmax')\n",
    "    ])\n",
    "\n",
    "    optimizer = Adam(learning_rate=0.0002)\n",
    "\n",
    "    model.compile(optimizer=optimizer,\n",
    "              loss='categorical_crossentropy',\n",
    "              metrics=['accuracy'])\n",
    "    \n",
    "    train_loss = []\n",
    "    train_accuracy = []\n",
    "    test_loss = []\n",
    "    test_accuracy = []\n",
    "    for i in range(num_epochs):\n",
    "        history = model.fit(X_train, y_train, epochs=1, batch_size=8, verbose=0)\n",
    "        \n",
    "        train_loss.append(history.history['loss'][0])\n",
    "        train_accuracy.append(history.history['accuracy'][0])\n",
    "\n",
    "        loss, accuracy = model.evaluate(X_test, y_test, verbose=0)\n",
    "\n",
    "        test_loss.append(loss)\n",
    "        test_accuracy.append(accuracy)\n",
    "        if (i + 1) % 5 == 0:\n",
    "            print(f'Epoch {i+1} => Test Loss: {loss:.2f} - Test Accuracy: {accuracy*100:.2f}%')\n",
    "\n",
    "    # fig, axs = plt.subplots(ncols=2)\n",
    "    # axs[0].plot(train_accuracy, label='train_accuracy')\n",
    "    # axs[0].plot(test_accuracy, label='test_accuracy')\n",
    "    # axs[0].title('Model accuracy')\n",
    "    # axs[0].xlabel('Epoch')\n",
    "    # axs[0].ylabel('Accuracy')\n",
    "\n",
    "    # axs[1].plot(train_loss, label='train_loss')\n",
    "    # axs[1].plot(test_loss, label='test_loss')\n",
    "    # axs[1].title('Model loss')\n",
    "    # axs[1].xlabel('Epoch')\n",
    "    # axs[1].ylabel('Loss')\n",
    "\n",
    "    # plt.tight_layout()\n",
    "    # plt.show()\n",
    "\n",
    "    return model"
   ]
  },
  {
   "cell_type": "code",
   "execution_count": 29,
   "metadata": {},
   "outputs": [
    {
     "name": "stdout",
     "output_type": "stream",
     "text": [
      "Epoch 5 => Test Loss: 0.17 - Test Accuracy: 93.10%\n",
      "Epoch 10 => Test Loss: 0.12 - Test Accuracy: 94.51%\n",
      "Epoch 15 => Test Loss: 0.11 - Test Accuracy: 93.57%\n",
      "Epoch 20 => Test Loss: 0.14 - Test Accuracy: 94.12%\n",
      "Epoch 25 => Test Loss: 0.16 - Test Accuracy: 92.71%\n",
      "Epoch 30 => Test Loss: 0.16 - Test Accuracy: 93.18%\n",
      "Epoch 35 => Test Loss: 0.21 - Test Accuracy: 93.33%\n",
      "Epoch 40 => Test Loss: 0.18 - Test Accuracy: 93.18%\n",
      "Epoch 45 => Test Loss: 0.21 - Test Accuracy: 93.25%\n",
      "Epoch 50 => Test Loss: 0.22 - Test Accuracy: 93.88%\n"
     ]
    }
   ],
   "source": [
    "lenet_model = simple_cnn(X_train, X_test, y_train, y_test)"
   ]
  },
  {
   "cell_type": "code",
   "execution_count": 30,
   "metadata": {},
   "outputs": [
    {
     "name": "stdout",
     "output_type": "stream",
     "text": [
      "40/40 [==============================] - 0s 3ms/step\n",
      "[0 1 2] [0 1 2]\n"
     ]
    }
   ],
   "source": [
    "y_pred = lenet_model.predict(X_test)\n",
    "print(np.unique(np.argmax(y_test, axis=1)), np.unique(np.argmax(y_pred, axis=1)))"
   ]
  },
  {
   "cell_type": "code",
   "execution_count": 31,
   "metadata": {},
   "outputs": [
    {
     "data": {
      "image/png": "[encoded data removed]",
      "text/plain": [
       "<Figure size 720x432 with 2 Axes>"
      ]
     },
     "metadata": {
      "needs_background": "light"
     },
     "output_type": "display_data"
    }
   ],
   "source": [
    "cm = confusion_matrix(np.argmax(y_test, axis=1), np.argmax(y_pred, axis=1))\n",
    "\n",
    "category_labels = ['S', 'VLP', 'VLP untreated']\n",
    "fig, ax = plt.subplots(figsize=(10, 6)) \n",
    "sns.heatmap(cm, \n",
    "            ax=ax,\n",
    "            annot=True,\n",
    "            cmap=\"flare\",\n",
    "            linewidth=.5,\n",
    "            fmt='g', \n",
    "            xticklabels=category_labels,\n",
    "            yticklabels=category_labels)\n",
    "plt.xlabel('Таамагласан',fontsize=13)\n",
    "plt.ylabel('Бодит',fontsize=13)\n",
    "plt.title('Confusion Matrix',fontsize=17)\n",
    "plt.show()"
   ]
  }
 ],
 "metadata": {
  "kernelspec": {
   "display_name": "Python 3",
   "language": "python",
   "name": "python3"
  },
  "language_info": {
   "codemirror_mode": {
    "name": "ipython",
    "version": 3
   },
   "file_extension": ".py",
   "mimetype": "text/x-python",
   "name": "python",
   "nbconvert_exporter": "python",
   "pygments_lexer": "ipython3",
   "version": "3.10.4"
  }
 },
 "nbformat": 4,
 "nbformat_minor": 2
}
