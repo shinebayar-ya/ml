{
 "cells": [
  {
   "cell_type": "markdown",
   "metadata": {},
   "source": [
    "# Олон ангилалын загвар"
   ]
  },
  {
   "cell_type": "markdown",
   "metadata": {},
   "source": [
    "## Сангуудаа импортлох"
   ]
  },
  {
   "cell_type": "code",
   "execution_count": 24,
   "metadata": {},
   "outputs": [],
   "source": [
    "import numpy as np\n",
    "import pandas as pd \n",
    "import matplotlib.pyplot as plt\n",
    "import seaborn as sns\n",
    "from sklearn.model_selection import train_test_split\n",
    "from sklearn.preprocessing import StandardScaler, LabelEncoder, OneHotEncoder\n",
    "from sklearn.metrics import precision_score, recall_score, f1_score, confusion_matrix\n",
    "from keras.optimizers import Adam\n",
    "from keras import layers, models\n",
    "from keras.models import Sequential\n",
    "from keras.layers import Dense, Conv1D, Flatten, LeakyReLU, BatchNormalization, MaxPooling1D, Dropout\n",
    "from keras.utils import to_categorical"
   ]
  },
  {
   "cell_type": "markdown",
   "metadata": {},
   "source": [
    "## Өгөгдлөө унших"
   ]
  },
  {
   "cell_type": "code",
   "execution_count": 3,
   "metadata": {},
   "outputs": [],
   "source": [
    "dataset = pd.read_csv('../../input/augmented_data/spectrum.csv', low_memory=False)"
   ]
  },
  {
   "cell_type": "markdown",
   "metadata": {},
   "source": [
    "## Өгөгдлөө шалгах"
   ]
  },
  {
   "cell_type": "code",
   "execution_count": 4,
   "metadata": {},
   "outputs": [
    {
     "data": {
      "text/html": [
       "<div>\n",
       "<style scoped>\n",
       "    .dataframe tbody tr th:only-of-type {\n",
       "        vertical-align: middle;\n",
       "    }\n",
       "\n",
       "    .dataframe tbody tr th {\n",
       "        vertical-align: top;\n",
       "    }\n",
       "\n",
       "    .dataframe thead th {\n",
       "        text-align: right;\n",
       "    }\n",
       "</style>\n",
       "<table border=\"1\" class=\"dataframe\">\n",
       "  <thead>\n",
       "    <tr style=\"text-align: right;\">\n",
       "      <th></th>\n",
       "      <th>0</th>\n",
       "      <th>1</th>\n",
       "      <th>2</th>\n",
       "      <th>3</th>\n",
       "      <th>4</th>\n",
       "    </tr>\n",
       "  </thead>\n",
       "  <tbody>\n",
       "    <tr>\n",
       "      <th>320</th>\n",
       "      <td>23.767617</td>\n",
       "      <td>6.554332</td>\n",
       "      <td>-65.876227</td>\n",
       "      <td>-3.539452</td>\n",
       "      <td>-32.211329</td>\n",
       "    </tr>\n",
       "    <tr>\n",
       "      <th>321</th>\n",
       "      <td>8.541673</td>\n",
       "      <td>-3.982771</td>\n",
       "      <td>-52.107447</td>\n",
       "      <td>-25.36141</td>\n",
       "      <td>3.569451</td>\n",
       "    </tr>\n",
       "    <tr>\n",
       "      <th>322</th>\n",
       "      <td>-6.737708</td>\n",
       "      <td>-12.508809</td>\n",
       "      <td>-43.797257</td>\n",
       "      <td>-22.890028</td>\n",
       "      <td>-25.360113</td>\n",
       "    </tr>\n",
       "    <tr>\n",
       "      <th>323</th>\n",
       "      <td>-13.844851</td>\n",
       "      <td>-14.161707</td>\n",
       "      <td>-34.973131</td>\n",
       "      <td>-15.633461</td>\n",
       "      <td>-24.382165</td>\n",
       "    </tr>\n",
       "    <tr>\n",
       "      <th>324</th>\n",
       "      <td>-15.338898</td>\n",
       "      <td>-11.528857</td>\n",
       "      <td>-24.758405</td>\n",
       "      <td>-24.196508</td>\n",
       "      <td>-13.837212</td>\n",
       "    </tr>\n",
       "    <tr>\n",
       "      <th>...</th>\n",
       "      <td>...</td>\n",
       "      <td>...</td>\n",
       "      <td>...</td>\n",
       "      <td>...</td>\n",
       "      <td>...</td>\n",
       "    </tr>\n",
       "    <tr>\n",
       "      <th>classfication</th>\n",
       "      <td>0</td>\n",
       "      <td>0</td>\n",
       "      <td>0</td>\n",
       "      <td>0</td>\n",
       "      <td>0</td>\n",
       "    </tr>\n",
       "    <tr>\n",
       "      <th>negpos</th>\n",
       "      <td>0</td>\n",
       "      <td>0</td>\n",
       "      <td>0</td>\n",
       "      <td>0</td>\n",
       "      <td>0</td>\n",
       "    </tr>\n",
       "    <tr>\n",
       "      <th>medium</th>\n",
       "      <td>NaN</td>\n",
       "      <td>NaN</td>\n",
       "      <td>NaN</td>\n",
       "      <td>NaN</td>\n",
       "      <td>NaN</td>\n",
       "    </tr>\n",
       "    <tr>\n",
       "      <th>mediumclassification</th>\n",
       "      <td>NaN</td>\n",
       "      <td>NaN</td>\n",
       "      <td>NaN</td>\n",
       "      <td>NaN</td>\n",
       "      <td>NaN</td>\n",
       "    </tr>\n",
       "    <tr>\n",
       "      <th>covid_status</th>\n",
       "      <td>negative</td>\n",
       "      <td>negative</td>\n",
       "      <td>negative</td>\n",
       "      <td>negative</td>\n",
       "      <td>negative</td>\n",
       "    </tr>\n",
       "  </tbody>\n",
       "</table>\n",
       "<p>1338 rows × 5 columns</p>\n",
       "</div>"
      ],
      "text/plain": [
       "                              0          1          2          3          4\n",
       "320                   23.767617   6.554332 -65.876227  -3.539452 -32.211329\n",
       "321                    8.541673  -3.982771 -52.107447  -25.36141   3.569451\n",
       "322                   -6.737708 -12.508809 -43.797257 -22.890028 -25.360113\n",
       "323                  -13.844851 -14.161707 -34.973131 -15.633461 -24.382165\n",
       "324                  -15.338898 -11.528857 -24.758405 -24.196508 -13.837212\n",
       "...                         ...        ...        ...        ...        ...\n",
       "classfication                 0          0          0          0          0\n",
       "negpos                        0          0          0          0          0\n",
       "medium                      NaN        NaN        NaN        NaN        NaN\n",
       "mediumclassification        NaN        NaN        NaN        NaN        NaN\n",
       "covid_status           negative   negative   negative   negative   negative\n",
       "\n",
       "[1338 rows x 5 columns]"
      ]
     },
     "metadata": {},
     "output_type": "display_data"
    },
    {
     "data": {
      "text/plain": [
       "(6400, 1338)"
      ]
     },
     "metadata": {},
     "output_type": "display_data"
    }
   ],
   "source": [
    "display(dataset.head().T, dataset.shape)"
   ]
  },
  {
   "cell_type": "code",
   "execution_count": 112,
   "metadata": {},
   "outputs": [],
   "source": [
    "diagnosis_map = {\n",
    "    0 : 'blank',\n",
    "    1 : 'S protein',\n",
    "    2 : 'VLP protein',\n",
    "    3 : 'VLP protein untreated saliva',\n",
    "    4 : 'Streptavidin',\n",
    "}\n",
    "\n",
    "covid_status_map = {\n",
    "    0 : 'Negative',\n",
    "    1 : 'Positive'\n",
    "}"
   ]
  },
  {
   "cell_type": "markdown",
   "metadata": {},
   "source": [
    "## Өгөгдлөө бэлдэх"
   ]
  },
  {
   "cell_type": "code",
   "execution_count": 97,
   "metadata": {},
   "outputs": [],
   "source": [
    "def data_preprocessing(data):\n",
    "    labels = data.columns[-7:]\n",
    "    X = data.drop(labels, axis=1)\n",
    "    X.columns = X.columns.astype(int)\n",
    "    y = data['classfication'].values\n",
    "    \n",
    "    y = to_categorical(y, num_classes=5)\n",
    "    X_train, X_test, y_train, y_test = train_test_split(X, y, stratify=y, test_size=0.25, random_state=42)\n",
    "\n",
    "    return X_train, X_test, y_train, y_test"
   ]
  },
  {
   "cell_type": "code",
   "execution_count": 98,
   "metadata": {},
   "outputs": [],
   "source": [
    "X_train, X_test, y_train, y_test = data_preprocessing(dataset)"
   ]
  },
  {
   "cell_type": "code",
   "execution_count": 99,
   "metadata": {},
   "outputs": [
    {
     "data": {
      "text/plain": [
       "((4800, 5), (1600, 5))"
      ]
     },
     "execution_count": 99,
     "metadata": {},
     "output_type": "execute_result"
    }
   ],
   "source": [
    "y_train.shape, y_test.shape"
   ]
  },
  {
   "cell_type": "code",
   "execution_count": 138,
   "metadata": {},
   "outputs": [],
   "source": [
    "NUM_EPOCHS = 50"
   ]
  },
  {
   "cell_type": "code",
   "execution_count": 139,
   "metadata": {},
   "outputs": [],
   "source": [
    "def leNet1D(X_train, X_test, y_train, y_test, num_epochs=NUM_EPOCHS, num_classes=5):\n",
    "\n",
    "    lenet = Sequential([\n",
    "        Conv1D(16, 21, input_shape=(X_train.shape[1], 1)),\n",
    "        BatchNormalization(),\n",
    "        LeakyReLU(0.01),\n",
    "        MaxPooling1D(16),\n",
    "\n",
    "        Conv1D(32, 11),\n",
    "        BatchNormalization(),\n",
    "        LeakyReLU(0.01),\n",
    "        MaxPooling1D(8),\n",
    "\n",
    "        Conv1D(64, 5),\n",
    "        BatchNormalization(),\n",
    "        LeakyReLU(0.01),\n",
    "        MaxPooling1D(4),\n",
    "        \n",
    "        Flatten(),\n",
    "        BatchNormalization(),\n",
    "        Dropout(0.5),\n",
    "\n",
    "        Dense(512, activation='tanh'),\n",
    "        BatchNormalization(),\n",
    "        Dropout(0.5),\n",
    "        \n",
    "        Dense(num_classes, activation='softmax')\n",
    "    ])\n",
    "\n",
    "    optimizer = Adam(learning_rate=0.0002)\n",
    "\n",
    "    lenet.compile(optimizer=optimizer,\n",
    "              loss='categorical_crossentropy',\n",
    "              metrics=['accuracy'])\n",
    "    \n",
    "    train_loss = []\n",
    "    train_accuracy = []\n",
    "    test_loss = []\n",
    "    test_accuracy = []\n",
    "    for i in range(num_epochs):\n",
    "        history = lenet.fit(X_train, y_train, epochs=1, batch_size=8, verbose=0)\n",
    "        \n",
    "        train_loss.append(history.history['loss'][0])\n",
    "        train_accuracy.append(history.history['accuracy'][0])\n",
    "\n",
    "        loss, accuracy = lenet.evaluate(X_test, y_test, verbose=0)\n",
    "\n",
    "        test_loss.append(loss)\n",
    "        test_accuracy.append(accuracy)\n",
    "        if (i + 1) % 5 == 0:\n",
    "            print(f'Epoch {i+1} => Test Loss: {loss:.2f} - Test Accuracy: {accuracy*100:.2f}%')\n",
    "\n",
    "    plt.figure(figsize=(15, 8))\n",
    "    plt.plot(train_loss, label='Train loss')\n",
    "    plt.plot(test_loss, label='Test loss')\n",
    "    # fig, axs = plt.subplots(ncols=2)\n",
    "    # axs[0].plot(train_accuracy, ax=axs[0], label='train acc')\n",
    "    # axs[0].plot(test_accuracy, ax=axs[0], label='test acc')\n",
    "    # axs[0].set_xlabel('Epoch')\n",
    "    # axs[0].set_ylabel('Accuracy')\n",
    "    # axs[0].set_title('Model accuracy')\n",
    "\n",
    "    # axs[1].plot(train_loss, ax=axs[1], label='train loss')\n",
    "    # axs[1].plot(test_loss, ax=axs[1], label='test loss')\n",
    "    # axs[1].set_xlabel('Epoch')\n",
    "    # axs[1].set_ylabel('Accuracy')\n",
    "    # axs[1].set_title('Model accuracy')\n",
    "\n",
    "    # plt.tight_layout()\n",
    "    plt.show()\n",
    "\n",
    "    return lenet"
   ]
  },
  {
   "cell_type": "code",
   "execution_count": 134,
   "metadata": {},
   "outputs": [
    {
     "name": "stdout",
     "output_type": "stream",
     "text": [
      "Epoch 5 => Test Loss: 0.10 - Test Accuracy: 95.38%\n",
      "Epoch 10 => Test Loss: 0.08 - Test Accuracy: 96.06%\n",
      "Epoch 15 => Test Loss: 0.09 - Test Accuracy: 95.25%\n",
      "Epoch 20 => Test Loss: 0.08 - Test Accuracy: 95.63%\n",
      "Epoch 25 => Test Loss: 0.07 - Test Accuracy: 95.56%\n",
      "Epoch 30 => Test Loss: 0.07 - Test Accuracy: 95.56%\n",
      "Epoch 35 => Test Loss: 0.07 - Test Accuracy: 95.13%\n",
      "Epoch 40 => Test Loss: 0.08 - Test Accuracy: 95.25%\n",
      "Epoch 45 => Test Loss: 0.08 - Test Accuracy: 95.44%\n",
      "Epoch 50 => Test Loss: 0.09 - Test Accuracy: 95.50%\n",
      "Epoch 55 => Test Loss: 0.09 - Test Accuracy: 95.44%\n",
      "Epoch 60 => Test Loss: 0.14 - Test Accuracy: 95.38%\n",
      "Epoch 65 => Test Loss: 0.10 - Test Accuracy: 95.13%\n",
      "Epoch 70 => Test Loss: 0.12 - Test Accuracy: 94.94%\n",
      "Epoch 75 => Test Loss: 0.13 - Test Accuracy: 95.25%\n",
      "Epoch 80 => Test Loss: 0.17 - Test Accuracy: 95.19%\n",
      "Epoch 85 => Test Loss: 0.16 - Test Accuracy: 94.94%\n",
      "Epoch 90 => Test Loss: 0.17 - Test Accuracy: 95.31%\n",
      "Epoch 95 => Test Loss: 0.17 - Test Accuracy: 95.13%\n",
      "Epoch 100 => Test Loss: 0.18 - Test Accuracy: 94.94%\n"
     ]
    }
   ],
   "source": [
    "leNet = leNet1D(X_train, X_test, y_train, y_test)"
   ]
  },
  {
   "cell_type": "code",
   "execution_count": 135,
   "metadata": {},
   "outputs": [
    {
     "name": "stdout",
     "output_type": "stream",
     "text": [
      "50/50 [==============================] - 0s 6ms/step\n"
     ]
    },
    {
     "data": {
      "text/plain": [
       "array([3, 0, 0, ..., 1, 1, 3], dtype=int64)"
      ]
     },
     "metadata": {},
     "output_type": "display_data"
    },
    {
     "data": {
      "text/plain": [
       "array([3, 0, 0, ..., 1, 1, 3], dtype=int64)"
      ]
     },
     "metadata": {},
     "output_type": "display_data"
    }
   ],
   "source": [
    "y_pred = leNet.predict(X_test)\n",
    "display(np.argmax(y_test, axis=1), np.argmax(y_pred, axis=1))"
   ]
  },
  {
   "cell_type": "code",
   "execution_count": 136,
   "metadata": {},
   "outputs": [
    {
     "name": "stdout",
     "output_type": "stream",
     "text": [
      "[0 1 2 3 4] [0 1 2 3 4]\n"
     ]
    }
   ],
   "source": [
    "print(np.unique(np.argmax(y_test, axis=1)), np.unique(np.argmax(y_pred, axis=1)))"
   ]
  },
  {
   "cell_type": "code",
   "execution_count": 143,
   "metadata": {},
   "outputs": [
    {
     "data": {
      "image/png": "[encoded data removed]",
      "text/plain": [
       "<Figure size 720x432 with 2 Axes>"
      ]
     },
     "metadata": {
      "needs_background": "light"
     },
     "output_type": "display_data"
    }
   ],
   "source": [
    "cm = confusion_matrix(np.argmax(y_test, axis=1), np.argmax(y_pred, axis=1))\n",
    "\n",
    "category_labels = diagnosis_map.values()\n",
    "fig, ax = plt.subplots(figsize=(10, 6)) \n",
    "sns.heatmap(cm, \n",
    "            ax=ax,\n",
    "            annot=True,\n",
    "            cmap=\"flare\",\n",
    "            linewidth=.5,\n",
    "            fmt='g', \n",
    "            xticklabels=category_labels,\n",
    "            yticklabels=category_labels)\n",
    "plt.xlabel('Таамагласан',fontsize=13)\n",
    "plt.ylabel('Бодит',fontsize=13)\n",
    "plt.title('Confusion Matrix',fontsize=17)\n",
    "\n",
    "# plt.savefig('../../figures/CM_mult_clf_CNN01_e100_2024_Winter.png', dpi=300, bbox_inches='tight', transparent=True) # PPT\n",
    "plt.show()"
   ]
  },
  {
   "cell_type": "code",
   "execution_count": 155,
   "metadata": {},
   "outputs": [],
   "source": [
    "def clf_NN(X_train, X_test, y_train, y_test, num_classes=5, num_epochs=500):\n",
    "    model = Sequential([\n",
    "        Dense(100, activation='relu'),\n",
    "        BatchNormalization(),\n",
    "        \n",
    "        Dense(32, activation='relu'),\n",
    "        BatchNormalization(),\n",
    "\n",
    "        Dense(num_classes, activation='softmax')\n",
    "    ])\n",
    "\n",
    "    optimizer = Adam(learning_rate=0.0002)\n",
    "\n",
    "    model.compile(optimizer=optimizer,\n",
    "              loss='categorical_crossentropy',\n",
    "              metrics=['accuracy'])\n",
    "    \n",
    "    train_loss = []\n",
    "    train_accuracy = []\n",
    "    test_loss = []\n",
    "    test_accuracy = []\n",
    "    for i in range(num_epochs):\n",
    "        history = model.fit(X_train, y_train, epochs=1, batch_size=8, verbose=0)\n",
    "        \n",
    "        train_loss.append(history.history['loss'][0])\n",
    "        train_accuracy.append(history.history['accuracy'][0])\n",
    "\n",
    "        loss, accuracy = model.evaluate(X_test, y_test, verbose=0)\n",
    "\n",
    "        test_loss.append(loss)\n",
    "        test_accuracy.append(accuracy)\n",
    "        if (i + 1) % 5 == 0:\n",
    "            print(f'Epoch {i+1} => Test Loss: {loss:.2f} - Test Accuracy: {accuracy*100:.2f}%')\n",
    "\n",
    "        if (i + 1) % 50 == 0:\n",
    "            plt.figure(figsize=(15, 8))\n",
    "            plt.plot(train_loss, label='train_loss')\n",
    "            plt.plot(train_accuracy, label='train_accuracy')\n",
    "            plt.plot(test_loss, label='test_loss')\n",
    "            plt.plot(test_accuracy, label='test_accuracy')\n",
    "            plt.title('Model accuracy')\n",
    "            plt.xlabel('Epoch')\n",
    "            plt.ylabel('Accuracy')\n",
    "            # plt.ylim(0, 1)\n",
    "            plt.legend(loc='upper left')\n",
    "            plt.savefig(f'../../figures/simple_nn/mult_clf_epoch_{i}.png', )\n",
    "            plt.close()\n",
    "\n",
    "            y_pred = model.predict(X_test)\n",
    "            cm = confusion_matrix(np.argmax(y_test, axis=1), np.argmax(y_pred, axis=1))\n",
    "\n",
    "            category_labels = diagnosis_map.values()\n",
    "            fig, ax = plt.subplots(figsize=(10, 6)) \n",
    "            sns.heatmap(cm, \n",
    "                        ax=ax,\n",
    "                        annot=True,\n",
    "                        cmap=\"flare\",\n",
    "                        linewidth=.5,\n",
    "                        fmt='g', \n",
    "                        xticklabels=category_labels,\n",
    "                        yticklabels=category_labels)\n",
    "            plt.xlabel('Таамагласан',fontsize=13)\n",
    "            plt.ylabel('Бодит',fontsize=13)\n",
    "            plt.title('Confusion Matrix',fontsize=17)\n",
    "\n",
    "            plt.savefig(f'../../figures/CM/mult_clf_simpleNN_epoch{i}.png', dpi=300, bbox_inches='tight', transparent=True)\n",
    "            plt.close()\n",
    "    return model"
   ]
  },
  {
   "cell_type": "code",
   "execution_count": 157,
   "metadata": {},
   "outputs": [
    {
     "name": "stdout",
     "output_type": "stream",
     "text": [
      "Epoch 5 => Test Loss: 0.12 - Test Accuracy: 95.50%\n",
      "Epoch 10 => Test Loss: 0.12 - Test Accuracy: 95.69%\n",
      "Epoch 15 => Test Loss: 0.16 - Test Accuracy: 95.63%\n",
      "Epoch 20 => Test Loss: 0.22 - Test Accuracy: 95.94%\n",
      "Epoch 25 => Test Loss: 0.27 - Test Accuracy: 95.50%\n",
      "Epoch 30 => Test Loss: 0.26 - Test Accuracy: 95.81%\n",
      "Epoch 35 => Test Loss: 0.25 - Test Accuracy: 96.06%\n",
      "Epoch 40 => Test Loss: 0.35 - Test Accuracy: 95.63%\n",
      "Epoch 45 => Test Loss: 0.45 - Test Accuracy: 95.63%\n",
      "Epoch 50 => Test Loss: 0.45 - Test Accuracy: 96.00%\n",
      "50/50 [==============================] - 0s 2ms/step\n",
      "Epoch 55 => Test Loss: 0.47 - Test Accuracy: 95.88%\n",
      "Epoch 60 => Test Loss: 0.47 - Test Accuracy: 95.44%\n",
      "Epoch 65 => Test Loss: 0.47 - Test Accuracy: 95.56%\n",
      "Epoch 70 => Test Loss: 0.58 - Test Accuracy: 96.00%\n",
      "Epoch 75 => Test Loss: 0.59 - Test Accuracy: 95.63%\n",
      "Epoch 80 => Test Loss: 0.58 - Test Accuracy: 95.81%\n",
      "Epoch 85 => Test Loss: 0.60 - Test Accuracy: 95.81%\n",
      "Epoch 90 => Test Loss: 0.54 - Test Accuracy: 95.69%\n",
      "Epoch 95 => Test Loss: 0.56 - Test Accuracy: 95.50%\n",
      "Epoch 100 => Test Loss: 0.62 - Test Accuracy: 95.44%\n",
      "50/50 [==============================] - 0s 2ms/step\n",
      "Epoch 105 => Test Loss: 0.66 - Test Accuracy: 95.69%\n",
      "Epoch 110 => Test Loss: 0.71 - Test Accuracy: 95.56%\n",
      "Epoch 115 => Test Loss: 0.76 - Test Accuracy: 95.81%\n",
      "Epoch 120 => Test Loss: 0.74 - Test Accuracy: 96.00%\n",
      "Epoch 125 => Test Loss: 0.82 - Test Accuracy: 95.69%\n",
      "Epoch 130 => Test Loss: 0.71 - Test Accuracy: 95.81%\n",
      "Epoch 135 => Test Loss: 0.84 - Test Accuracy: 95.38%\n",
      "Epoch 140 => Test Loss: 0.82 - Test Accuracy: 95.56%\n",
      "Epoch 145 => Test Loss: 0.89 - Test Accuracy: 95.69%\n",
      "Epoch 150 => Test Loss: 0.93 - Test Accuracy: 95.75%\n",
      "50/50 [==============================] - 0s 2ms/step\n",
      "Epoch 155 => Test Loss: 1.00 - Test Accuracy: 95.63%\n",
      "Epoch 160 => Test Loss: 0.99 - Test Accuracy: 95.69%\n",
      "Epoch 165 => Test Loss: 0.91 - Test Accuracy: 95.69%\n",
      "Epoch 170 => Test Loss: 0.97 - Test Accuracy: 95.63%\n",
      "Epoch 175 => Test Loss: 1.09 - Test Accuracy: 95.81%\n",
      "Epoch 180 => Test Loss: 1.05 - Test Accuracy: 95.69%\n",
      "Epoch 185 => Test Loss: 1.15 - Test Accuracy: 95.88%\n",
      "Epoch 190 => Test Loss: 1.02 - Test Accuracy: 95.56%\n",
      "Epoch 195 => Test Loss: 1.01 - Test Accuracy: 95.25%\n",
      "Epoch 200 => Test Loss: 1.07 - Test Accuracy: 95.38%\n",
      "50/50 [==============================] - 0s 2ms/step\n",
      "Epoch 205 => Test Loss: 1.13 - Test Accuracy: 95.50%\n",
      "Epoch 210 => Test Loss: 1.20 - Test Accuracy: 95.50%\n",
      "Epoch 215 => Test Loss: 1.20 - Test Accuracy: 95.63%\n",
      "Epoch 220 => Test Loss: 1.25 - Test Accuracy: 95.31%\n",
      "Epoch 225 => Test Loss: 1.33 - Test Accuracy: 95.75%\n",
      "Epoch 230 => Test Loss: 1.44 - Test Accuracy: 95.94%\n",
      "Epoch 235 => Test Loss: 1.36 - Test Accuracy: 95.69%\n",
      "Epoch 240 => Test Loss: 1.40 - Test Accuracy: 95.44%\n",
      "Epoch 245 => Test Loss: 1.52 - Test Accuracy: 95.31%\n",
      "Epoch 250 => Test Loss: 1.47 - Test Accuracy: 95.50%\n",
      "50/50 [==============================] - 0s 2ms/step\n",
      "Epoch 255 => Test Loss: 1.49 - Test Accuracy: 95.50%\n",
      "Epoch 260 => Test Loss: 1.51 - Test Accuracy: 95.50%\n",
      "Epoch 265 => Test Loss: 1.57 - Test Accuracy: 95.50%\n",
      "Epoch 270 => Test Loss: 1.77 - Test Accuracy: 95.50%\n",
      "Epoch 275 => Test Loss: 1.83 - Test Accuracy: 95.50%\n",
      "Epoch 280 => Test Loss: 2.09 - Test Accuracy: 95.44%\n",
      "Epoch 285 => Test Loss: 1.82 - Test Accuracy: 95.75%\n",
      "Epoch 290 => Test Loss: 1.82 - Test Accuracy: 95.25%\n",
      "Epoch 295 => Test Loss: 1.83 - Test Accuracy: 95.63%\n",
      "Epoch 300 => Test Loss: 1.85 - Test Accuracy: 95.63%\n",
      "50/50 [==============================] - 0s 2ms/step\n",
      "Epoch 305 => Test Loss: 1.89 - Test Accuracy: 95.81%\n",
      "Epoch 310 => Test Loss: 1.90 - Test Accuracy: 95.50%\n",
      "Epoch 315 => Test Loss: 1.90 - Test Accuracy: 95.50%\n",
      "Epoch 320 => Test Loss: 1.81 - Test Accuracy: 95.69%\n",
      "Epoch 325 => Test Loss: 1.64 - Test Accuracy: 95.75%\n",
      "Epoch 330 => Test Loss: 1.67 - Test Accuracy: 95.81%\n",
      "Epoch 335 => Test Loss: 1.67 - Test Accuracy: 95.69%\n",
      "Epoch 340 => Test Loss: 1.87 - Test Accuracy: 95.56%\n",
      "Epoch 345 => Test Loss: 1.84 - Test Accuracy: 95.69%\n",
      "Epoch 350 => Test Loss: 1.87 - Test Accuracy: 95.63%\n",
      "50/50 [==============================] - 0s 2ms/step\n",
      "Epoch 355 => Test Loss: 1.69 - Test Accuracy: 95.56%\n",
      "Epoch 360 => Test Loss: 1.81 - Test Accuracy: 95.88%\n",
      "Epoch 365 => Test Loss: 1.92 - Test Accuracy: 95.88%\n",
      "Epoch 370 => Test Loss: 1.88 - Test Accuracy: 95.69%\n",
      "Epoch 375 => Test Loss: 1.90 - Test Accuracy: 95.63%\n",
      "Epoch 380 => Test Loss: 1.96 - Test Accuracy: 95.75%\n",
      "Epoch 385 => Test Loss: 1.99 - Test Accuracy: 95.88%\n",
      "Epoch 390 => Test Loss: 2.12 - Test Accuracy: 95.50%\n",
      "Epoch 395 => Test Loss: 2.01 - Test Accuracy: 95.81%\n",
      "Epoch 400 => Test Loss: 2.11 - Test Accuracy: 95.63%\n",
      "50/50 [==============================] - 0s 2ms/step\n",
      "Epoch 405 => Test Loss: 2.01 - Test Accuracy: 95.56%\n",
      "Epoch 410 => Test Loss: 2.01 - Test Accuracy: 95.44%\n",
      "Epoch 415 => Test Loss: 2.06 - Test Accuracy: 96.00%\n",
      "Epoch 420 => Test Loss: 1.97 - Test Accuracy: 95.63%\n",
      "Epoch 425 => Test Loss: 2.11 - Test Accuracy: 95.44%\n",
      "Epoch 430 => Test Loss: 2.02 - Test Accuracy: 95.31%\n",
      "Epoch 435 => Test Loss: 2.18 - Test Accuracy: 95.63%\n",
      "Epoch 440 => Test Loss: 2.14 - Test Accuracy: 95.69%\n",
      "Epoch 445 => Test Loss: 2.27 - Test Accuracy: 95.50%\n",
      "Epoch 450 => Test Loss: 2.23 - Test Accuracy: 95.69%\n",
      "50/50 [==============================] - 0s 2ms/step\n",
      "Epoch 455 => Test Loss: 2.07 - Test Accuracy: 95.38%\n",
      "Epoch 460 => Test Loss: 2.25 - Test Accuracy: 95.13%\n",
      "Epoch 465 => Test Loss: 2.26 - Test Accuracy: 95.88%\n",
      "Epoch 470 => Test Loss: 2.46 - Test Accuracy: 95.69%\n",
      "Epoch 475 => Test Loss: 2.45 - Test Accuracy: 96.06%\n",
      "Epoch 480 => Test Loss: 2.58 - Test Accuracy: 95.88%\n",
      "Epoch 485 => Test Loss: 2.20 - Test Accuracy: 95.56%\n",
      "Epoch 490 => Test Loss: 2.51 - Test Accuracy: 95.31%\n",
      "Epoch 495 => Test Loss: 2.34 - Test Accuracy: 95.25%\n",
      "Epoch 500 => Test Loss: 2.38 - Test Accuracy: 95.50%\n",
      "50/50 [==============================] - 0s 2ms/step\n"
     ]
    }
   ],
   "source": [
    "model_clf = clf_NN(X_train, X_test, y_train, y_test)"
   ]
  },
  {
   "cell_type": "code",
   "execution_count": 152,
   "metadata": {},
   "outputs": [
    {
     "name": "stdout",
     "output_type": "stream",
     "text": [
      "50/50 [==============================] - 0s 2ms/step\n"
     ]
    }
   ],
   "source": [
    "y_pred = model_clf.predict(X_test)"
   ]
  },
  {
   "cell_type": "code",
   "execution_count": 154,
   "metadata": {},
   "outputs": [
    {
     "data": {
      "image/png": "[encoded data removed]",
      "text/plain": [
       "<Figure size 720x432 with 2 Axes>"
      ]
     },
     "metadata": {
      "needs_background": "light"
     },
     "output_type": "display_data"
    }
   ],
   "source": [
    "cm = confusion_matrix(np.argmax(y_test, axis=1), np.argmax(y_pred, axis=1))\n",
    "\n",
    "category_labels = diagnosis_map.values()\n",
    "fig, ax = plt.subplots(figsize=(10, 6)) \n",
    "sns.heatmap(cm, \n",
    "            ax=ax,\n",
    "            annot=True,\n",
    "            cmap=\"flare\",\n",
    "            linewidth=.5,\n",
    "            fmt='g', \n",
    "            xticklabels=category_labels,\n",
    "            yticklabels=category_labels)\n",
    "plt.xlabel('Таамагласан',fontsize=13)\n",
    "plt.ylabel('Бодит',fontsize=13)\n",
    "plt.title('Confusion Matrix',fontsize=17)\n",
    "\n",
    "# plt.savefig('../../figures/CM_mult_clf_NN03_e10_2024_Winter.png', dpi=300, bbox_inches='tight', transparent=True)\n",
    "plt.show()"
   ]
  },
  {
   "cell_type": "markdown",
   "metadata": {},
   "source": [
    "## Дүгнэлт"
   ]
  }
 ],
 "metadata": {
  "kernelspec": {
   "display_name": "Python 3",
   "language": "python",
   "name": "python3"
  },
  "language_info": {
   "codemirror_mode": {
    "name": "ipython",
    "version": 3
   },
   "file_extension": ".py",
   "mimetype": "text/x-python",
   "name": "python",
   "nbconvert_exporter": "python",
   "pygments_lexer": "ipython3",
   "version": "3.10.4"
  }
 },
 "nbformat": 4,
 "nbformat_minor": 2
}
